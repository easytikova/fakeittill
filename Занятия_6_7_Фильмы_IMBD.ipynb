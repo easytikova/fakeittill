{
  "nbformat": 4,
  "nbformat_minor": 0,
  "metadata": {
    "colab": {
      "provenance": [],
      "include_colab_link": true
    },
    "kernelspec": {
      "name": "python3",
      "display_name": "Python 3"
    },
    "language_info": {
      "name": "python"
    }
  },
  "cells": [
    {
      "cell_type": "markdown",
      "metadata": {
        "id": "view-in-github",
        "colab_type": "text"
      },
      "source": [
        "<a href=\"https://colab.research.google.com/github/easytikova/fakeittill/blob/main/%D0%97%D0%B0%D0%BD%D1%8F%D1%82%D0%B8%D1%8F_6_7_%D0%A4%D0%B8%D0%BB%D1%8C%D0%BC%D1%8B_IMBD.ipynb\" target=\"_parent\"><img src=\"https://colab.research.google.com/assets/colab-badge.svg\" alt=\"Open In Colab\"/></a>"
      ]
    },
    {
      "cell_type": "markdown",
      "source": [
        "```\n",
        "MIT License\n",
        "\n",
        "Copyright (c) 2023 Victoria Firsanova\n",
        "\n",
        "Permission is hereby granted, free of charge, to any person obtaining a copy of this software and associated documentation files (the \"Software\"), to deal in the Software without restriction, including without limitation the rights to use, copy, modify, merge, publish, distribute, sublicense, and/or sell copies of the Software, and to permit persons to whom the Software is furnished to do so, subject to the following conditions:\n",
        "\n",
        "The above copyright notice and this permission notice shall be included in all copies or substantial portions of the Software.\n",
        "\n",
        "THE SOFTWARE IS PROVIDED \"AS IS\", WITHOUT WARRANTY OF ANY KIND, EXPRESS OR IMPLIED, INCLUDING BUT NOT LIMITED TO THE WARRANTIES OF MERCHANTABILITY, FITNESS FOR A PARTICULAR PURPOSE AND NONINFRINGEMENT. IN NO EVENT SHALL THE AUTHORS OR COPYRIGHT HOLDERS BE LIABLE FOR ANY CLAIM, DAMAGES OR OTHER LIABILITY, WHETHER IN AN ACTION OF CONTRACT, TORT OR OTHERWISE, ARISING FROM, OUT OF OR IN CONNECTION WITH THE SOFTWARE OR THE USE OR OTHER DEALINGS IN THE SOFTWARE.\n",
        "```"
      ],
      "metadata": {
        "id": "6cQvzaYa5Z9C"
      }
    },
    {
      "cell_type": "markdown",
      "source": [
        "Работаем с Cinemagoer: https://cinemagoer.github.io/"
      ],
      "metadata": {
        "id": "NDJ9wtCQ24UT"
      }
    },
    {
      "cell_type": "code",
      "source": [
        "!pip install cinemagoer"
      ],
      "metadata": {
        "id": "dZB9wR7Cq6DP",
        "colab": {
          "base_uri": "https://localhost:8080/"
        },
        "outputId": "2c5cc58e-7bd4-482c-b386-c0f8faee7c0f"
      },
      "execution_count": null,
      "outputs": [
        {
          "output_type": "stream",
          "name": "stdout",
          "text": [
            "Collecting cinemagoer\n",
            "  Downloading cinemagoer-2023.5.1-py3-none-any.whl (297 kB)\n",
            "\u001b[?25l     \u001b[90m━━━━━━━━━━━━━━━━━━━━━━━━━━━━━━━━━━━━━━━━\u001b[0m \u001b[32m0.0/297.2 kB\u001b[0m \u001b[31m?\u001b[0m eta \u001b[36m-:--:--\u001b[0m\r\u001b[2K     \u001b[91m━━━━━━━━━━━━━━━━━━━━━━━━━━━━━━━━━━━━━\u001b[0m\u001b[90m╺\u001b[0m\u001b[90m━━\u001b[0m \u001b[32m276.5/297.2 kB\u001b[0m \u001b[31m8.2 MB/s\u001b[0m eta \u001b[36m0:00:01\u001b[0m\r\u001b[2K     \u001b[90m━━━━━━━━━━━━━━━━━━━━━━━━━━━━━━━━━━━━━━━━\u001b[0m \u001b[32m297.2/297.2 kB\u001b[0m \u001b[31m6.7 MB/s\u001b[0m eta \u001b[36m0:00:00\u001b[0m\n",
            "\u001b[?25hRequirement already satisfied: SQLAlchemy in /usr/local/lib/python3.10/dist-packages (from cinemagoer) (2.0.21)\n",
            "Requirement already satisfied: lxml in /usr/local/lib/python3.10/dist-packages (from cinemagoer) (4.9.3)\n",
            "Requirement already satisfied: typing-extensions>=4.2.0 in /usr/local/lib/python3.10/dist-packages (from SQLAlchemy->cinemagoer) (4.5.0)\n",
            "Requirement already satisfied: greenlet!=0.4.17 in /usr/local/lib/python3.10/dist-packages (from SQLAlchemy->cinemagoer) (3.0.0)\n",
            "Installing collected packages: cinemagoer\n",
            "Successfully installed cinemagoer-2023.5.1\n"
          ]
        }
      ]
    },
    {
      "cell_type": "code",
      "execution_count": null,
      "metadata": {
        "id": "Zn7ebKaSjSmK"
      },
      "outputs": [],
      "source": [
        "from imdb import Cinemagoer\n",
        "\n",
        "# создаем класс Cinemagoer\n",
        "ia = Cinemagoer()\n",
        "\n",
        "# получаем информацию про фильм по ID в IMDB https://www.imdb.com/title/tt###\n",
        "movie = ia.get_movie('0325980')"
      ]
    },
    {
      "cell_type": "code",
      "source": [
        "# посмотрим, какая информация нам доступна\n",
        "sorted(movie.keys())"
      ],
      "metadata": {
        "id": "TjihNPcKxD7s",
        "colab": {
          "base_uri": "https://localhost:8080/"
        },
        "outputId": "bf1e0ce4-38e5-4c7c-86e0-a3151d49fa31"
      },
      "execution_count": null,
      "outputs": [
        {
          "output_type": "execute_result",
          "data": {
            "text/plain": [
              "['akas',\n",
              " 'animation department',\n",
              " 'art department',\n",
              " 'art direction',\n",
              " 'aspect ratio',\n",
              " 'assistant director',\n",
              " 'box office',\n",
              " 'camera and electrical department',\n",
              " 'canonical title',\n",
              " 'cast',\n",
              " 'casting department',\n",
              " 'casting director',\n",
              " 'certificates',\n",
              " 'cinematographer',\n",
              " 'color info',\n",
              " 'composer',\n",
              " 'costume department',\n",
              " 'costume designer',\n",
              " 'countries',\n",
              " 'country codes',\n",
              " 'cover url',\n",
              " 'director',\n",
              " 'distributors',\n",
              " 'editor',\n",
              " 'editorial department',\n",
              " 'full-size cover url',\n",
              " 'genres',\n",
              " 'imdbID',\n",
              " 'kind',\n",
              " 'language codes',\n",
              " 'languages',\n",
              " 'localized title',\n",
              " 'location management',\n",
              " 'long imdb canonical title',\n",
              " 'long imdb title',\n",
              " 'make up',\n",
              " 'miscellaneous crew',\n",
              " 'music department',\n",
              " 'original air date',\n",
              " 'original title',\n",
              " 'other companies',\n",
              " 'plot',\n",
              " 'plot outline',\n",
              " 'producer',\n",
              " 'production companies',\n",
              " 'production design',\n",
              " 'production manager',\n",
              " 'rating',\n",
              " 'runtimes',\n",
              " 'script department',\n",
              " 'set decoration',\n",
              " 'smart canonical title',\n",
              " 'smart long imdb canonical title',\n",
              " 'sound crew',\n",
              " 'sound mix',\n",
              " 'special effects',\n",
              " 'special effects companies',\n",
              " 'stunt performer',\n",
              " 'synopsis',\n",
              " 'thanks',\n",
              " 'title',\n",
              " 'top 250 rank',\n",
              " 'transportation department',\n",
              " 'videos',\n",
              " 'visual effects',\n",
              " 'votes',\n",
              " 'writer',\n",
              " 'year']"
            ]
          },
          "metadata": {},
          "execution_count": 3
        }
      ]
    },
    {
      "cell_type": "markdown",
      "source": [
        "# Задачи на работу со строками"
      ],
      "metadata": {
        "id": "YN57OZzX0A-t"
      }
    },
    {
      "cell_type": "code",
      "source": [
        "# для каждого актера фильма\n",
        "# выведите на экран одной строкой\n",
        "# FirstName LastName is an actor in MovieName\n",
        "# используйте конкатенацию и форматирование строк\n",
        "# hint: actor['name'] - имя актера\n",
        "# movie['original title'] - название фильма\n",
        "for actor in movie['cast']:\n",
        "  print(f\"{actor['name']} is an actor in {movie['original title']}\")\n",
        "\n",
        "# Попробовать бы еще не повторять каждый раз название фильма"
      ],
      "metadata": {
        "id": "IHmsLx-YyPCG",
        "colab": {
          "base_uri": "https://localhost:8080/"
        },
        "outputId": "a87961f4-6eb5-41cf-a987-be0250b198e9"
      },
      "execution_count": null,
      "outputs": [
        {
          "output_type": "stream",
          "name": "stdout",
          "text": [
            "Johnny Depp is an actor in Pirates of the Caribbean: The Curse of the Black Pearl\n",
            "Geoffrey Rush is an actor in Pirates of the Caribbean: The Curse of the Black Pearl\n",
            "Orlando Bloom is an actor in Pirates of the Caribbean: The Curse of the Black Pearl\n",
            "Keira Knightley is an actor in Pirates of the Caribbean: The Curse of the Black Pearl\n",
            "Jack Davenport is an actor in Pirates of the Caribbean: The Curse of the Black Pearl\n",
            "Jonathan Pryce is an actor in Pirates of the Caribbean: The Curse of the Black Pearl\n",
            "Lee Arenberg is an actor in Pirates of the Caribbean: The Curse of the Black Pearl\n",
            "Mackenzie Crook is an actor in Pirates of the Caribbean: The Curse of the Black Pearl\n",
            "Damian O'Hare is an actor in Pirates of the Caribbean: The Curse of the Black Pearl\n",
            "Giles New is an actor in Pirates of the Caribbean: The Curse of the Black Pearl\n",
            "Angus Barnett is an actor in Pirates of the Caribbean: The Curse of the Black Pearl\n",
            "David Bailie is an actor in Pirates of the Caribbean: The Curse of the Black Pearl\n",
            "Michael Berry Jr. is an actor in Pirates of the Caribbean: The Curse of the Black Pearl\n",
            "Isaac C. Singleton Jr. is an actor in Pirates of the Caribbean: The Curse of the Black Pearl\n",
            "Kevin McNally is an actor in Pirates of the Caribbean: The Curse of the Black Pearl\n",
            "Treva Etienne is an actor in Pirates of the Caribbean: The Curse of the Black Pearl\n",
            "Zoe Saldana is an actor in Pirates of the Caribbean: The Curse of the Black Pearl\n",
            "Guy Siner is an actor in Pirates of the Caribbean: The Curse of the Black Pearl\n",
            "Ralph P. Martin is an actor in Pirates of the Caribbean: The Curse of the Black Pearl\n",
            "Paula J. Newman is an actor in Pirates of the Caribbean: The Curse of the Black Pearl\n",
            "Paul Keith is an actor in Pirates of the Caribbean: The Curse of the Black Pearl\n",
            "Dylan Smith is an actor in Pirates of the Caribbean: The Curse of the Black Pearl\n",
            "Lucinda Dryzek is an actor in Pirates of the Caribbean: The Curse of the Black Pearl\n",
            "Luke de Woolfson is an actor in Pirates of the Caribbean: The Curse of the Black Pearl\n",
            "Michael Sean Tighe is an actor in Pirates of the Caribbean: The Curse of the Black Pearl\n",
            "Greg Ellis is an actor in Pirates of the Caribbean: The Curse of the Black Pearl\n",
            "Dustin Seavey is an actor in Pirates of the Caribbean: The Curse of the Black Pearl\n",
            "Christian Martin is an actor in Pirates of the Caribbean: The Curse of the Black Pearl\n",
            "Israel Oyelumade is an actor in Pirates of the Caribbean: The Curse of the Black Pearl\n",
            "Trevor Goddard is an actor in Pirates of the Caribbean: The Curse of the Black Pearl\n",
            "Vince Lozano is an actor in Pirates of the Caribbean: The Curse of the Black Pearl\n",
            "Ben Wilson is an actor in Pirates of the Caribbean: The Curse of the Black Pearl\n",
            "Antonio Valentino is an actor in Pirates of the Caribbean: The Curse of the Black Pearl\n",
            "Lauren Maher is an actor in Pirates of the Caribbean: The Curse of the Black Pearl\n",
            "Matthew Bowyer is an actor in Pirates of the Caribbean: The Curse of the Black Pearl\n",
            "Brye Cooper is an actor in Pirates of the Caribbean: The Curse of the Black Pearl\n",
            "Mike Babcock is an actor in Pirates of the Caribbean: The Curse of the Black Pearl\n",
            "Owen Finnegan is an actor in Pirates of the Caribbean: The Curse of the Black Pearl\n",
            "Ian McIntyre is an actor in Pirates of the Caribbean: The Curse of the Black Pearl\n",
            "Vanessa Branch is an actor in Pirates of the Caribbean: The Curse of the Black Pearl\n",
            "Sam Roberts is an actor in Pirates of the Caribbean: The Curse of the Black Pearl\n",
            "Ben Roberts is an actor in Pirates of the Caribbean: The Curse of the Black Pearl\n",
            "Martin Klebba is an actor in Pirates of the Caribbean: The Curse of the Black Pearl\n",
            "Félix Castro is an actor in Pirates of the Caribbean: The Curse of the Black Pearl\n",
            "Mike Haberecht is an actor in Pirates of the Caribbean: The Curse of the Black Pearl\n",
            "Rudy McCollum is an actor in Pirates of the Caribbean: The Curse of the Black Pearl\n",
            "Gerard J. Reyes is an actor in Pirates of the Caribbean: The Curse of the Black Pearl\n",
            "M. Scott Shields is an actor in Pirates of the Caribbean: The Curse of the Black Pearl\n",
            "Christopher Sullivan is an actor in Pirates of the Caribbean: The Curse of the Black Pearl\n",
            "Craig Thomson is an actor in Pirates of the Caribbean: The Curse of the Black Pearl\n",
            "Fred Toft is an actor in Pirates of the Caribbean: The Curse of the Black Pearl\n",
            "D.P. FitzGerald is an actor in Pirates of the Caribbean: The Curse of the Black Pearl\n",
            "Jerry Gauny is an actor in Pirates of the Caribbean: The Curse of the Black Pearl\n",
            "Maxie Santillan Jr. is an actor in Pirates of the Caribbean: The Curse of the Black Pearl\n",
            "Michael Earl Lane is an actor in Pirates of the Caribbean: The Curse of the Black Pearl\n",
            "Tobias McKinney is an actor in Pirates of the Caribbean: The Curse of the Black Pearl\n",
            "David Patykewich is an actor in Pirates of the Caribbean: The Curse of the Black Pearl\n",
            "Tommy Schooler is an actor in Pirates of the Caribbean: The Curse of the Black Pearl\n",
            "Michael A. Thompson is an actor in Pirates of the Caribbean: The Curse of the Black Pearl\n",
            "Michael W. Williams is an actor in Pirates of the Caribbean: The Curse of the Black Pearl\n",
            "José Zelaya is an actor in Pirates of the Caribbean: The Curse of the Black Pearl\n",
            "Finneus Egan is an actor in Pirates of the Caribbean: The Curse of the Black Pearl\n",
            "Don LaDaga is an actor in Pirates of the Caribbean: The Curse of the Black Pearl\n",
            "LeJon is an actor in Pirates of the Caribbean: The Curse of the Black Pearl\n",
            "Christopher S. Capp is an actor in Pirates of the Caribbean: The Curse of the Black Pearl\n",
            "Gregory Alosio is an actor in Pirates of the Caribbean: The Curse of the Black Pearl\n",
            "Jordi Caballero is an actor in Pirates of the Caribbean: The Curse of the Black Pearl\n",
            "Tamara Castle is an actor in Pirates of the Caribbean: The Curse of the Black Pearl\n",
            "Paul Gagné is an actor in Pirates of the Caribbean: The Curse of the Black Pearl\n",
            "Joe Grisaffi is an actor in Pirates of the Caribbean: The Curse of the Black Pearl\n",
            "James McAuley is an actor in Pirates of the Caribbean: The Curse of the Black Pearl\n"
          ]
        }
      ]
    },
    {
      "cell_type": "code",
      "source": [
        "# сохраним краткое описание фильма в переменную\n",
        "plot = movie['plot'][0]\n",
        "\n",
        "# приведите этот текст к нижнему регистру\n",
        "plot_lower = plot.lower()\n",
        "\n",
        "# выведите на экран первые 100 символов\n",
        "print(plot_lower[: 100])\n",
        "\n"
      ],
      "metadata": {
        "id": "gWnW9d-9w9fC",
        "colab": {
          "base_uri": "https://localhost:8080/"
        },
        "outputId": "3c9b2e82-352e-4de6-dc11-6c6f3ed66a1d"
      },
      "execution_count": null,
      "outputs": [
        {
          "output_type": "stream",
          "name": "stdout",
          "text": [
            "blacksmith will turner teams up with eccentric pirate \"captain\" jack sparrow to save his love, the g\n"
          ]
        }
      ]
    },
    {
      "cell_type": "code",
      "source": [
        "# выводим первые 100 слов\n",
        "print(plot_lower.split()[: 100])"
      ],
      "metadata": {
        "colab": {
          "base_uri": "https://localhost:8080/"
        },
        "id": "ub0nX5xTuwDe",
        "outputId": "0005bf66-83f7-416e-c84c-c452a37fb3f4"
      },
      "execution_count": null,
      "outputs": [
        {
          "output_type": "stream",
          "name": "stdout",
          "text": [
            "['blacksmith', 'will', 'turner', 'teams', 'up', 'with', 'eccentric', 'pirate', '\"captain\"', 'jack', 'sparrow', 'to', 'save', 'his', 'love,', 'the', \"governor's\", 'daughter,', 'from', \"jack's\", 'former', 'pirate', 'allies,', 'who', 'are', 'now', 'undead.']\n"
          ]
        }
      ]
    },
    {
      "cell_type": "code",
      "source": [
        "# посмотрите, сколько раз повторяются слова из заголовка фильма в описании плота\n",
        "# для этого приведите название фильма к нижнему регистру\n",
        "# и используйте цикл for, если слов в заголовке несколько\n",
        "\n",
        "for word in movie['original title'].lower().split():\n",
        "  print(word)\n",
        "  print(plot_lower.count(word))"
      ],
      "metadata": {
        "colab": {
          "base_uri": "https://localhost:8080/"
        },
        "id": "GjEnPYRuuT3f",
        "outputId": "ed83d08a-6e8b-4706-c37a-c935f71e8bc9"
      },
      "execution_count": null,
      "outputs": [
        {
          "output_type": "stream",
          "name": "stdout",
          "text": [
            "pirates\n",
            "0\n",
            "of\n",
            "0\n",
            "the\n",
            "1\n",
            "caribbean:\n",
            "0\n",
            "the\n",
            "1\n",
            "curse\n",
            "0\n",
            "of\n",
            "0\n",
            "the\n",
            "1\n",
            "black\n",
            "1\n",
            "pearl\n",
            "0\n"
          ]
        }
      ]
    },
    {
      "cell_type": "code",
      "source": [
        "# разбейте текст на слова и выведете первые 10 слов на экран, не используйте print\n",
        "text = plot_lower.split()\n",
        "text[:11]"
      ],
      "metadata": {
        "colab": {
          "base_uri": "https://localhost:8080/"
        },
        "id": "U1JS8aAqvz0-",
        "outputId": "651bb1d8-bdd1-4fc8-dc1b-cc2c8f4cef28"
      },
      "execution_count": null,
      "outputs": [
        {
          "output_type": "execute_result",
          "data": {
            "text/plain": [
              "['blacksmith',\n",
              " 'will',\n",
              " 'turner',\n",
              " 'teams',\n",
              " 'up',\n",
              " 'with',\n",
              " 'eccentric',\n",
              " 'pirate',\n",
              " '\"captain\"',\n",
              " 'jack',\n",
              " 'sparrow']"
            ]
          },
          "metadata": {},
          "execution_count": 8
        }
      ]
    },
    {
      "cell_type": "markdown",
      "source": [
        "# Задачи на работу со списками"
      ],
      "metadata": {
        "id": "V4_tbOOR7xlZ"
      }
    },
    {
      "cell_type": "code",
      "source": [
        "# создайте список актеров фильма\n",
        "# сначала создайте пустой список\n",
        "# затем используйте цикл for и append\n",
        "\n",
        "actors = []\n",
        "for actor in movie['cast']:\n",
        "  actors.append(actor['name'])\n",
        "\n",
        "# выведите на экран первые 10 актеров из списка\n",
        "\n",
        "actors[:10]"
      ],
      "metadata": {
        "id": "p0XJ2Ib07wqf",
        "colab": {
          "base_uri": "https://localhost:8080/"
        },
        "outputId": "5af90365-8ae4-4e81-a13b-5c9706b86fb8"
      },
      "execution_count": null,
      "outputs": [
        {
          "output_type": "execute_result",
          "data": {
            "text/plain": [
              "['Johnny Depp',\n",
              " 'Geoffrey Rush',\n",
              " 'Orlando Bloom',\n",
              " 'Keira Knightley',\n",
              " 'Jack Davenport',\n",
              " 'Jonathan Pryce',\n",
              " 'Lee Arenberg',\n",
              " 'Mackenzie Crook',\n",
              " \"Damian O'Hare\",\n",
              " 'Giles New']"
            ]
          },
          "metadata": {},
          "execution_count": 9
        }
      ]
    },
    {
      "cell_type": "code",
      "source": [
        "# сгенерируйте список режиссеров фильма\n",
        "# hint: для запроса к имени используйте x['name']\n",
        "\n",
        "directors = [director['name'] for director in movie['directors']]\n",
        "directors\n",
        "\n",
        "\n",
        "# выведите на экран количество режиссеров фильма и их имена\n",
        "# используйте f-форматирование строк и \\n для переноса на новую строку\n",
        "\n",
        "print(f\"Всего режиссёров: {len(directors)}\\n Имена: {' '.join(map(str, directors))}\")\n",
        "# map переносит информацию из str и выводит из неё только directors"
      ],
      "metadata": {
        "id": "aVekoj5u8SgK",
        "colab": {
          "base_uri": "https://localhost:8080/"
        },
        "outputId": "002aaf2d-7398-4a57-d999-0143cd67042f"
      },
      "execution_count": null,
      "outputs": [
        {
          "output_type": "stream",
          "name": "stdout",
          "text": [
            "Всего режиссёров: 1\n",
            " Имена: Gore Verbinski\n"
          ]
        }
      ]
    },
    {
      "cell_type": "code",
      "source": [
        "# списки тоже можно контатенировать, сложите список актеров и режиссеров\n",
        "# выведите несколько первых и последних элементов списка\n",
        "\n",
        "vmeste = actors + directors\n",
        "print(vmeste[:3])\n",
        "print(vmeste[-3:])"
      ],
      "metadata": {
        "id": "r4tYj-JE9qDD",
        "colab": {
          "base_uri": "https://localhost:8080/"
        },
        "outputId": "31b211b0-3d54-48cd-ce93-6619ad11ba27"
      },
      "execution_count": null,
      "outputs": [
        {
          "output_type": "stream",
          "name": "stdout",
          "text": [
            "['Johnny Depp', 'Geoffrey Rush', 'Orlando Bloom']\n",
            "['Joe Grisaffi', 'James McAuley', 'Gore Verbinski']\n"
          ]
        }
      ]
    },
    {
      "cell_type": "code",
      "source": [
        "# выполните сортировку списка актеров по алфавиту\n",
        "### интересно, как сортировать по фамилии (можно посмотреть в самом начале canonical nameи не париться вообще)\n",
        "sorted_actors = sorted(actors)\n",
        "print(sorted_actors)\n",
        "\n",
        "# удалите в этом списке первый элемент с помощью индексации\n",
        "\n",
        "sorted_actors.remove(sorted_actors[0])\n",
        "\n",
        "'Angus Barnett' not in sorted_actors # проверим\n",
        "\n",
        "# удалите нелюбимого актера с помощью ввода имен\n",
        "\n",
        "###\n",
        "\n",
        "# проверьте, есть ли это имя в списке актеров с помощью in\n",
        "\n",
        "###"
      ],
      "metadata": {
        "id": "E2EWKiA6_Ech",
        "colab": {
          "base_uri": "https://localhost:8080/"
        },
        "outputId": "3a919586-fb4c-48e3-b34b-25cdac2969e9"
      },
      "execution_count": null,
      "outputs": [
        {
          "output_type": "stream",
          "name": "stdout",
          "text": [
            "['Angus Barnett', 'Antonio Valentino', 'Ben Roberts', 'Ben Wilson', 'Brye Cooper', 'Christian Martin', 'Christopher S. Capp', 'Christopher Sullivan', 'Craig Thomson', 'D.P. FitzGerald', \"Damian O'Hare\", 'David Bailie', 'David Patykewich', 'Don LaDaga', 'Dustin Seavey', 'Dylan Smith', 'Finneus Egan', 'Fred Toft', 'Félix Castro', 'Geoffrey Rush', 'Gerard J. Reyes', 'Giles New', 'Greg Ellis', 'Gregory Alosio', 'Guy Siner', 'Ian McIntyre', 'Isaac C. Singleton Jr.', 'Israel Oyelumade', 'Jack Davenport', 'James McAuley', 'Jerry Gauny', 'Joe Grisaffi', 'Johnny Depp', 'Jonathan Pryce', 'Jordi Caballero', 'José Zelaya', 'Keira Knightley', 'Kevin McNally', 'Lauren Maher', 'LeJon', 'Lee Arenberg', 'Lucinda Dryzek', 'Luke de Woolfson', 'M. Scott Shields', 'Mackenzie Crook', 'Martin Klebba', 'Matthew Bowyer', 'Maxie Santillan Jr.', 'Michael A. Thompson', 'Michael Berry Jr.', 'Michael Earl Lane', 'Michael Sean Tighe', 'Michael W. Williams', 'Mike Babcock', 'Mike Haberecht', 'Orlando Bloom', 'Owen Finnegan', 'Paul Gagné', 'Paul Keith', 'Paula J. Newman', 'Ralph P. Martin', 'Rudy McCollum', 'Sam Roberts', 'Tamara Castle', 'Tobias McKinney', 'Tommy Schooler', 'Treva Etienne', 'Trevor Goddard', 'Vanessa Branch', 'Vince Lozano', 'Zoe Saldana']\n"
          ]
        },
        {
          "output_type": "execute_result",
          "data": {
            "text/plain": [
              "True"
            ]
          },
          "metadata": {},
          "execution_count": 12
        }
      ]
    },
    {
      "cell_type": "markdown",
      "source": [
        "# Задачи на работу со словарями"
      ],
      "metadata": {
        "id": "8sRhKPLTFAuF"
      }
    },
    {
      "cell_type": "code",
      "source": [
        "# создадим карточку любого актера из нашего фильма\n",
        "\n",
        "people = ia.search_person(actors[6])\n",
        "\n",
        "for person in people:\n",
        "   print(person.personID, person['name'])"
      ],
      "metadata": {
        "id": "2PuExDCoEFG_",
        "colab": {
          "base_uri": "https://localhost:8080/"
        },
        "outputId": "03e8b867-e07f-421f-d98d-affa5311e95d"
      },
      "execution_count": null,
      "outputs": [
        {
          "output_type": "stream",
          "name": "stdout",
          "text": [
            "0034305 Lee Arenberg\n",
            "0000241 Jean-Claude Van Damme\n",
            "0509322 Lee-Anne Liebenberg\n",
            "0888157 Kris Van Damme\n",
            "2929749 Bianca Brigitte Van Damme\n",
            "9056709 Nicolas Van Varenberg\n",
            "1483697 Amanda Renberg\n",
            "0073392 Karen Berger\n",
            "0016595 Susan Albert\n",
            "0073808 Karen Berg\n",
            "3066543 Rubén Arnaiz\n",
            "4848148 Lee Altenberg\n",
            "13073065 Titus Arensenberg\n",
            "0081404 Maren Bielenberg\n",
            "0888156 Eugene Van Varenberg\n",
            "6473240 Lindsey Arenberg\n",
            "8912275 Karen Greenberger\n",
            "0824817 Arend Steenbergen\n",
            "1116400 Karen Bergman\n",
            "7924008 Jon Arenberg\n"
          ]
        }
      ]
    },
    {
      "cell_type": "code",
      "source": [
        "# запишем в перменную только один результат\n",
        "\n",
        "person = ia.get_person(people[2].personID)"
      ],
      "metadata": {
        "id": "2x_WWik8Indr"
      },
      "execution_count": null,
      "outputs": []
    },
    {
      "cell_type": "code",
      "source": [
        "person.keys()"
      ],
      "metadata": {
        "colab": {
          "base_uri": "https://localhost:8080/"
        },
        "id": "HWK3eAaQJL0S",
        "outputId": "4b734805-185c-4a74-c065-0666c74305e7"
      },
      "execution_count": null,
      "outputs": [
        {
          "output_type": "execute_result",
          "data": {
            "text/plain": [
              "['headshot',\n",
              " 'imdbID',\n",
              " 'name',\n",
              " 'filmography',\n",
              " 'canonical name',\n",
              " 'long imdb name',\n",
              " 'long imdb canonical name',\n",
              " 'full-size headshot']"
            ]
          },
          "metadata": {},
          "execution_count": 19
        }
      ]
    },
    {
      "cell_type": "code",
      "source": [
        "person.items()"
      ],
      "metadata": {
        "id": "jRE3qJuUJoKv",
        "colab": {
          "base_uri": "https://localhost:8080/"
        },
        "outputId": "78186b63-ec8d-4a66-998d-19a11ce36801"
      },
      "execution_count": null,
      "outputs": [
        {
          "output_type": "execute_result",
          "data": {
            "text/plain": [
              "[('headshot',\n",
              "  'https://m.media-amazon.com/images/M/MV5BMTMyNDc1NTIyM15BMl5BanBnXkFtZTcwNDI1MTkxNw@@._V1_QL75_UY207_CR87,0,140,207_.jpg'),\n",
              " ('imdbID', '0509322'),\n",
              " ('name', 'Lee-Anne Liebenberg'),\n",
              " ('filmography',\n",
              "  {'stunts': [<Movie id:28661069[http] title:_Baltimore (2023)_>,\n",
              "    <Movie id:8769360[http] title:_Professionals (2022) (2020)_>,\n",
              "    <Movie id:1634106[http] title:_Bloodshot (2020)_>,\n",
              "    <Movie id:3722614[http] title:_Revolt (2017)_>,\n",
              "    <Movie id:6213284[http] title:_I Am Not a Witch (2017)_>,\n",
              "    <Movie id:2592614[http] title:_Resident Evil: The Final Chapter (2016)_>,\n",
              "    <Movie id:5338278[http] title:_Skorokoro (2016)_>,\n",
              "    <Movie id:5578908[http] title:_Mignon Mossie van Wyk (2016)_>,\n",
              "    <Movie id:2395427[http] title:_Avengers: Age of Ultron (2015)_>,\n",
              "    <Movie id:1823672[http] title:_Chappie (2015)_>,\n",
              "    <Movie id:7494462[http] title:_Vlug na Egipte (2015)_>,\n",
              "    <Movie id:3958054[http] title:_Impunity (2014)_>,\n",
              "    <Movie id:3443496[http] title:_Stuur groete aan Mannetjies Roux (2013)_>,\n",
              "    <Movie id:2427836[http] title:_Safari (2013)_>,\n",
              "    <Movie id:2296835[http] title:_Layla Fourie (2013)_>,\n",
              "    <Movie id:1911662[http] title:_Vehicle 19 (2013)_>,\n",
              "    <Movie id:1500491[http] title:_Death Race 2 (2010)_>,\n",
              "    <Movie id:2061665[http] title:_Egoli: Afrikaners is Plesierig (2010)_>,\n",
              "    <Movie id:1136608[http] title:_District 9 (2009)_>,\n",
              "    <Movie id:0115355[http] title:_Silent Witness (2008)_>,\n",
              "    <Movie id:1266144[http] title:_Ouma se Slim Kind (2007)_>,\n",
              "    <Movie id:0468536[http] title:_Prey (None)_>,\n",
              "    <Movie id:0772193[http] title:_Primeval (2007)_>,\n",
              "    <Movie id:0455362[http] title:_The Breed (2006)_>,\n",
              "    <Movie id:0494197[http] title:_Uncle Max (2006)_>,\n",
              "    <Movie id:0419373[http] title:_Supernova (2005)_>,\n",
              "    <Movie id:0381601[http] title:_Slipstream (2005)_>,\n",
              "    <Movie id:0337943[http] title:_Consequence (2003)_>,\n",
              "    <Movie id:0338470[http] title:_Sumuru (2003)_>,\n",
              "    <Movie id:0132666[http] title:_The Wonderful World of Disney (2002)_>,\n",
              "    <Movie id:0277944[http] title:_Panic (2002)_>,\n",
              "    <Movie id:0284769[http] title:_Askari (2001)_>,\n",
              "    <Movie id:0167832[http] title:_Cold Harvest (1999)_>,\n",
              "    <Movie id:0120851[http] title:_Sweepers (1998)_>,\n",
              "    <Movie id:0119839[http] title:_Operation Delta Force (1997)_>,\n",
              "    <Movie id:0117396[http] title:_Orion's Key (1996)_>,\n",
              "    <Movie id:0116016[http] title:_Danger Zone (1996)_>,\n",
              "    <Movie id:0118119[http] title:_Warhead (1996)_>,\n",
              "    <Movie id:0113358[http] title:_Live Wire 2: Human Timebomb (1995)_>,\n",
              "    <Movie id:0113719[http] title:_Lunarcop (1995)_>,\n",
              "    <Movie id:0113964[http] title:_Never Say Die (1994)_>,\n",
              "    <Movie id:0109518[http] title:_Cyborg Cop II (1994)_>,\n",
              "    <Movie id:0109810[http] title:_Fleshtone (1994)_>,\n",
              "    <Movie id:0110901[http] title:_Project Shadowchaser II (1994)_>,\n",
              "    <Movie id:0111787[http] title:_Yankee Zulu (1993)_>],\n",
              "   'actress': [<Movie id:11576124[http] title:_Rogue (None)_>,\n",
              "    <Movie id:4898282[http] title:_Blood Drive (2017)_>,\n",
              "    <Movie id:3958054[http] title:_Impunity (2014)_>,\n",
              "    <Movie id:1986607[http] title:_Planet of the Apemen: Battle for Earth (2011)_>,\n",
              "    <Movie id:1500491[http] title:_Death Race 2 (2010)_>,\n",
              "    <Movie id:0483607[http] title:_Doomsday (None)_>,\n",
              "    <Movie id:0439518[http] title:_Straight Outta Benoni (2005)_>,\n",
              "    <Movie id:0408378[http] title:_Charlie Jade (2005)_>,\n",
              "    <Movie id:0367478[http] title:_Wake of Death (2004)_>,\n",
              "    <Movie id:0193318[http] title:_Merlin: The Return (2000)_>,\n",
              "    <Movie id:0167832[http] title:_Cold Harvest (1999)_>,\n",
              "    <Movie id:0161970[http] title:_Shark Attack (1999)_>,\n",
              "    <Movie id:0115385[http] title:_Tarzan: The Epic Adventures (1997)_>,\n",
              "    <Movie id:0118119[http] title:_Warhead (1996)_>,\n",
              "    <Movie id:0109810[http] title:_Fleshtone (1994)_>],\n",
              "   'makeup department': [<Movie id:0120851[http] title:_Sweepers (1998)_>]}),\n",
              " ('canonical name', 'Liebenberg, Lee-Anne'),\n",
              " ('long imdb name', 'Lee-Anne Liebenberg'),\n",
              " ('long imdb canonical name', 'Liebenberg, Lee-Anne'),\n",
              " ('full-size headshot',\n",
              "  'https://m.media-amazon.com/images/M/MV5BMTMyNDc1NTIyM15BMl5BanBnXkFtZTcwNDI1MTkxNw@@.jpg')]"
            ]
          },
          "metadata": {},
          "execution_count": 20
        }
      ]
    },
    {
      "cell_type": "code",
      "source": [
        "# составим из этих элементов карточку следующего вида\n",
        "# [\n",
        "#    актер :\n",
        "#             {\n",
        "#               фильмы : список фильмов\n",
        "#               жанры : список жанров\n",
        "#             }\n",
        "# ]\n",
        "#\n",
        "# начнем с созднания списка фильмов\n",
        "# создаем пустой список\n",
        "\n",
        "films = []\n",
        "\n",
        "# для каждого фильма в person['filmography']['###']\n",
        "# вносим в список новый элемент\n",
        "\n",
        "for title in person['filmography']['actress']:\n",
        "  temp = title['title']\n",
        "  films.append(temp)\n",
        "\n",
        "films[:10]"
      ],
      "metadata": {
        "id": "rqL8zMq8JrTw",
        "colab": {
          "base_uri": "https://localhost:8080/"
        },
        "outputId": "cbedd5cb-9da3-4d12-ad4e-fe235bf3a603"
      },
      "execution_count": null,
      "outputs": [
        {
          "output_type": "execute_result",
          "data": {
            "text/plain": [
              "['Rogue',\n",
              " 'Blood Drive',\n",
              " 'Impunity',\n",
              " 'Planet of the Apemen: Battle for Earth',\n",
              " 'Death Race 2',\n",
              " 'Doomsday',\n",
              " 'Straight Outta Benoni',\n",
              " 'Charlie Jade',\n",
              " 'Wake of Death',\n",
              " 'Merlin: The Return']"
            ]
          },
          "metadata": {},
          "execution_count": 22
        }
      ]
    },
    {
      "cell_type": "code",
      "source": [
        "# теперь для каждого из найденных фильмов извлечем жанр\n",
        "# и тоже запишем все это в список\n",
        "\n",
        "# создаем пустой список для жанров\n",
        "\n",
        "genres = []\n",
        "\n",
        "# для каждого фильма из списка с фильмами\n",
        "# ищем подходящие фильмы в IMDB: ia.search_movie()\n",
        "# записываем в переменную ID этого фильма: ia.get_movie(movie.movieID)\n",
        "# извлекаем жанры, записываем во временную переменную\n",
        "# записываем жанры в список жанров\n",
        "\n",
        "for title in films[:5]:\n",
        "  film_list = ia.search_movie(title)\n",
        "  film = ia.get_movie(movie.movieID)\n",
        "  temp = film['genres'][0]\n",
        "  genres.append(temp)\n",
        "\n",
        "genres"
      ],
      "metadata": {
        "id": "MdMA4jSBK5yZ",
        "colab": {
          "base_uri": "https://localhost:8080/"
        },
        "outputId": "2cab6050-0307-465c-c9ec-51bed12567e1"
      },
      "execution_count": null,
      "outputs": [
        {
          "output_type": "execute_result",
          "data": {
            "text/plain": [
              "['Action', 'Action', 'Action', 'Action', 'Action']"
            ]
          },
          "metadata": {},
          "execution_count": 27
        }
      ]
    },
    {
      "cell_type": "code",
      "source": [
        "# наши жанры повторяются - преобразуем список во множество\n",
        "genres = set(genres)\n",
        "genres"
      ],
      "metadata": {
        "colab": {
          "base_uri": "https://localhost:8080/"
        },
        "id": "8Z36xTMcK6Xs",
        "outputId": "8f72f8c8-e4a0-48db-dd67-25ae869a0c8e"
      },
      "execution_count": null,
      "outputs": [
        {
          "output_type": "execute_result",
          "data": {
            "text/plain": [
              "{'Action'}"
            ]
          },
          "metadata": {},
          "execution_count": 29
        }
      ]
    },
    {
      "cell_type": "code",
      "source": [
        "# теперь мы можем собрать информацию об актере в карточку\n",
        "# [\n",
        "#    актер :\n",
        "#             {\n",
        "#               фильмы : список фильмов\n",
        "#               жанры : список жанров\n",
        "#             }\n",
        "# ]\n",
        "#\n",
        "\n",
        "# сначала создаем словарь с фильмами и жанрами\n",
        "\n",
        "slovar = {'films': films, 'genres': genres}\n",
        "slovar\n",
        "\n",
        "# а можно еще так:\n",
        "slovar = dict()\n",
        "slovar['films'] = films\n",
        "slovar['genres'] = genres\n",
        "slovar"
      ],
      "metadata": {
        "id": "_RtAgCoRN033",
        "colab": {
          "base_uri": "https://localhost:8080/"
        },
        "outputId": "185d3fc5-6bab-4519-de6e-f0dc9d6962e0"
      },
      "execution_count": null,
      "outputs": [
        {
          "output_type": "execute_result",
          "data": {
            "text/plain": [
              "{'films': ['Rogue',\n",
              "  'Blood Drive',\n",
              "  'Impunity',\n",
              "  'Planet of the Apemen: Battle for Earth',\n",
              "  'Death Race 2',\n",
              "  'Doomsday',\n",
              "  'Straight Outta Benoni',\n",
              "  'Charlie Jade',\n",
              "  'Wake of Death',\n",
              "  'Merlin: The Return',\n",
              "  'Cold Harvest',\n",
              "  'Shark Attack',\n",
              "  'Tarzan: The Epic Adventures',\n",
              "  'Warhead',\n",
              "  'Fleshtone'],\n",
              " 'genres': {'Action'}}"
            ]
          },
          "metadata": {},
          "execution_count": 35
        }
      ]
    },
    {
      "cell_type": "code",
      "source": [
        "# теперь временный словарь, в котором мы соединим эту информацию с именем актера\n",
        "\n",
        "temp = dict()\n",
        "temp[person['canonical name']] = slovar\n",
        "\n",
        "temp"
      ],
      "metadata": {
        "id": "pjxwcxH9OTk3",
        "colab": {
          "base_uri": "https://localhost:8080/"
        },
        "outputId": "a7f4efcc-5b4f-48e5-c0e5-c8a29a6f9add"
      },
      "execution_count": null,
      "outputs": [
        {
          "output_type": "execute_result",
          "data": {
            "text/plain": [
              "{'Liebenberg, Lee-Anne': {'films': ['Rogue',\n",
              "   'Blood Drive',\n",
              "   'Impunity',\n",
              "   'Planet of the Apemen: Battle for Earth',\n",
              "   'Death Race 2',\n",
              "   'Doomsday',\n",
              "   'Straight Outta Benoni',\n",
              "   'Charlie Jade',\n",
              "   'Wake of Death',\n",
              "   'Merlin: The Return',\n",
              "   'Cold Harvest',\n",
              "   'Shark Attack',\n",
              "   'Tarzan: The Epic Adventures',\n",
              "   'Warhead',\n",
              "   'Fleshtone'],\n",
              "  'genres': {'Action'}}}"
            ]
          },
          "metadata": {},
          "execution_count": 37
        }
      ]
    },
    {
      "cell_type": "code",
      "source": [
        "# карточка готова, но мы наверняка захотим добавить туда еще актеров\n",
        "# создаем хранилище карточек в виде списка и вносим туда первую карточку с append\n",
        "\n",
        "cards = []\n",
        "cards.append(temp)\n",
        "cards"
      ],
      "metadata": {
        "colab": {
          "base_uri": "https://localhost:8080/"
        },
        "id": "sPE1W57QPNYp",
        "outputId": "09721bae-ae5a-4ccf-ae99-bb430eefc774"
      },
      "execution_count": null,
      "outputs": [
        {
          "output_type": "execute_result",
          "data": {
            "text/plain": [
              "[{'Liebenberg, Lee-Anne': {'films': ['Rogue',\n",
              "    'Blood Drive',\n",
              "    'Impunity',\n",
              "    'Planet of the Apemen: Battle for Earth',\n",
              "    'Death Race 2',\n",
              "    'Doomsday',\n",
              "    'Straight Outta Benoni',\n",
              "    'Charlie Jade',\n",
              "    'Wake of Death',\n",
              "    'Merlin: The Return',\n",
              "    'Cold Harvest',\n",
              "    'Shark Attack',\n",
              "    'Tarzan: The Epic Adventures',\n",
              "    'Warhead',\n",
              "    'Fleshtone'],\n",
              "   'genres': {'Action'}}}]"
            ]
          },
          "metadata": {},
          "execution_count": 38
        }
      ]
    },
    {
      "cell_type": "markdown",
      "source": [
        "Задание:\n",
        "\n",
        "- Создать карточки для 5 актеров одного (любого) фильма - можно больше, главное, чтобы ваш код масштабировался до любого количества актеров\n",
        "- В карточке каждого актера должна содержаться следующая информация:\n",
        " * фильмография в качестве актера\n",
        " * несколько жанров\n",
        " * год выпуска фильмов, где снимался актер\n",
        " * языки, на которых сняты эти фильмы\n",
        " * рейтинги этих фильмов\n",
        "\n",
        "Создание карточек должно быть автоматизировано: за один цикл работы программы должна создаваться одна карточка. Чтобы программа не работала слишком долго, можно сократить количество извлеченных фильмов до пяти, извлекать только один жанр, один язык, где их несколько.\n",
        "\n",
        "Если этого мало: используйте функции для своей работы (аргументами функции может быть количество актеров, количество фильмов и т.д.), добавьте к фильмографии синопсисы."
      ],
      "metadata": {
        "id": "d-Q6tLj6QVUj"
      }
    },
    {
      "cell_type": "code",
      "source": [
        "!pip install cinemagoer\n",
        "from imdb import Cinemagoer\n",
        "\n",
        "ia = Cinemagoer()\n",
        "movie = ia.get_movie('0285403')\n",
        "sorted(movie.keys())"
      ],
      "metadata": {
        "colab": {
          "base_uri": "https://localhost:8080/"
        },
        "id": "Rqed3Nukeayk",
        "outputId": "13b6b251-acc0-4076-cb32-21140257785a"
      },
      "execution_count": null,
      "outputs": [
        {
          "output_type": "stream",
          "name": "stdout",
          "text": [
            "Requirement already satisfied: cinemagoer in /usr/local/lib/python3.10/dist-packages (2023.5.1)\n",
            "Requirement already satisfied: SQLAlchemy in /usr/local/lib/python3.10/dist-packages (from cinemagoer) (2.0.22)\n",
            "Requirement already satisfied: lxml in /usr/local/lib/python3.10/dist-packages (from cinemagoer) (4.9.3)\n",
            "Requirement already satisfied: typing-extensions>=4.2.0 in /usr/local/lib/python3.10/dist-packages (from SQLAlchemy->cinemagoer) (4.5.0)\n",
            "Requirement already satisfied: greenlet!=0.4.17 in /usr/local/lib/python3.10/dist-packages (from SQLAlchemy->cinemagoer) (3.0.0)\n"
          ]
        },
        {
          "output_type": "execute_result",
          "data": {
            "text/plain": [
              "['akas',\n",
              " 'aspect ratio',\n",
              " 'canonical title',\n",
              " 'cast',\n",
              " 'certificates',\n",
              " 'color info',\n",
              " 'countries',\n",
              " 'country codes',\n",
              " 'cover url',\n",
              " 'distributors',\n",
              " 'full-size cover url',\n",
              " 'genres',\n",
              " 'imdbID',\n",
              " 'kind',\n",
              " 'language codes',\n",
              " 'languages',\n",
              " 'localized title',\n",
              " 'long imdb canonical title',\n",
              " 'long imdb title',\n",
              " 'number of seasons',\n",
              " 'original title',\n",
              " 'other companies',\n",
              " 'plot',\n",
              " 'plot outline',\n",
              " 'production companies',\n",
              " 'rating',\n",
              " 'runtimes',\n",
              " 'seasons',\n",
              " 'series years',\n",
              " 'smart canonical title',\n",
              " 'smart long imdb canonical title',\n",
              " 'sound mix',\n",
              " 'special effects',\n",
              " 'title',\n",
              " 'videos',\n",
              " 'votes',\n",
              " 'writer',\n",
              " 'year']"
            ]
          },
          "metadata": {},
          "execution_count": 104
        }
      ]
    },
    {
      "cell_type": "code",
      "source": [
        "for actor in movie['cast']:\n",
        "  print(f\"{actor ['name']} is an actor in {movie ['original title']}\")\n"
      ],
      "metadata": {
        "colab": {
          "base_uri": "https://localhost:8080/"
        },
        "id": "sXAcJ0qihL5g",
        "outputId": "9cdc1a1f-4ed1-4c74-860b-ba219ab19ad2"
      },
      "execution_count": null,
      "outputs": [
        {
          "output_type": "stream",
          "name": "stdout",
          "text": [
            "Donald Faison is an actor in Scrubs\n",
            "John C. McGinley is an actor in Scrubs\n",
            "Ken Jenkins is an actor in Scrubs\n",
            "Zach Braff is an actor in Scrubs\n",
            "Sarah Chalke is an actor in Scrubs\n",
            "Neil Flynn is an actor in Scrubs\n",
            "Judy Reyes is an actor in Scrubs\n",
            "Robert Maschio is an actor in Scrubs\n",
            "Sam Lloyd is an actor in Scrubs\n",
            "Aloma Wright is an actor in Scrubs\n",
            "Christa Miller is an actor in Scrubs\n",
            "Johnny Kastl is an actor in Scrubs\n",
            "Travis Schuldt is an actor in Scrubs\n",
            "Eliza Coupe is an actor in Scrubs\n",
            "Frank Encarnacao is an actor in Scrubs\n",
            "Charles Rahi Chun is an actor in Scrubs\n",
            "Mike Schwartz is an actor in Scrubs\n",
            "Elizabeth Banks is an actor in Scrubs\n",
            "Michael Hobert is an actor in Scrubs\n",
            "Andrew Miller is an actor in Scrubs\n",
            "George Miserlis is an actor in Scrubs\n",
            "Paul F. Perry is an actor in Scrubs\n",
            "Philip McNiven is an actor in Scrubs\n",
            "Randall Keenan Winston is an actor in Scrubs\n",
            "Kerry Bishé is an actor in Scrubs\n",
            "Michael Mosley is an actor in Scrubs\n",
            "Dave Franco is an actor in Scrubs\n",
            "Manley Henry is an actor in Scrubs\n",
            "Scott Foley is an actor in Scrubs\n",
            "Tara Reid is an actor in Scrubs\n",
            "Christina Miles is an actor in Scrubs\n",
            "Jordan Zucker is an actor in Scrubs\n",
            "Heather Graham is an actor in Scrubs\n",
            "Nicky Whelan is an actor in Scrubs\n",
            "Aaron Ikeda is an actor in Scrubs\n",
            "Geoff Stevenson is an actor in Scrubs\n",
            "Sonal Shah is an actor in Scrubs\n",
            "Kit Pongetti is an actor in Scrubs\n",
            "Shaughn Buchholz is an actor in Scrubs\n",
            "Michael Learned is an actor in Scrubs\n",
            "Martin Klebba is an actor in Scrubs\n",
            "Joe Rose is an actor in Scrubs\n",
            "Betsy Beutler is an actor in Scrubs\n",
            "Tom Cavanagh is an actor in Scrubs\n",
            "Bob Clendenin is an actor in Scrubs\n",
            "Jay Kenneth Johnson is an actor in Scrubs\n",
            "Bob Bencomo is an actor in Scrubs\n",
            "Windell Middlebrooks is an actor in Scrubs\n",
            "Matthew Moy is an actor in Scrubs\n",
            "Cody Estes is an actor in Scrubs\n"
          ]
        }
      ]
    },
    {
      "cell_type": "code",
      "source": [
        "# потренироваться\n",
        "synopsis = movie['plot'][0]\n",
        "syn = synopsis.lower()\n",
        "print(syn[:101])"
      ],
      "metadata": {
        "colab": {
          "base_uri": "https://localhost:8080/"
        },
        "id": "hL3aVy2GirEp",
        "outputId": "1795caed-f01b-4bf7-8aae-1903fcd78ff6"
      },
      "execution_count": null,
      "outputs": [
        {
          "output_type": "stream",
          "name": "stdout",
          "text": [
            "in the unreal world of sacred heart hospital, intern john \"j.d.\" dorian learns the ways of medicine, \n"
          ]
        }
      ]
    },
    {
      "cell_type": "code",
      "source": [
        "title = movie ['original title'].lower()\n",
        "count = 0\n",
        "syn = syn.split()\n",
        "for word in syn:\n",
        "    if word == title:\n",
        "        count += 1\n",
        "\n",
        "print(f'\"{title}\" встречается в описании фильма {count} раз.')"
      ],
      "metadata": {
        "colab": {
          "base_uri": "https://localhost:8080/"
        },
        "id": "stnQ3Pzdjasx",
        "outputId": "fc5ed87b-7632-4ef7-d4bb-82f17be0238a"
      },
      "execution_count": null,
      "outputs": [
        {
          "output_type": "stream",
          "name": "stdout",
          "text": [
            "\"scrubs\" встречается в описании фильма 0 раз.\n"
          ]
        }
      ]
    },
    {
      "cell_type": "code",
      "source": [
        "syn[:11]"
      ],
      "metadata": {
        "colab": {
          "base_uri": "https://localhost:8080/"
        },
        "id": "UtjKuWlXm0dR",
        "outputId": "af607479-96c5-4379-ba8b-4ad99b4af674"
      },
      "execution_count": null,
      "outputs": [
        {
          "output_type": "execute_result",
          "data": {
            "text/plain": [
              "['in',\n",
              " 'the',\n",
              " 'unreal',\n",
              " 'world',\n",
              " 'of',\n",
              " 'sacred',\n",
              " 'heart',\n",
              " 'hospital,',\n",
              " 'intern',\n",
              " 'john',\n",
              " '\"j.d.\"']"
            ]
          },
          "metadata": {},
          "execution_count": 108
        }
      ]
    },
    {
      "cell_type": "markdown",
      "source": [
        "Теперь создаем карточки"
      ],
      "metadata": {
        "id": "I0_buI6qn2nu"
      }
    },
    {
      "cell_type": "code",
      "source": [
        "cards = []\n",
        "for actor in movie['cast']:\n",
        "  actors.append(actor['name'])\n",
        "print(actors[:5])"
      ],
      "metadata": {
        "colab": {
          "base_uri": "https://localhost:8080/"
        },
        "id": "XaIlMwQon5uT",
        "outputId": "37e149cd-b735-4c39-cac0-9205ac82494f"
      },
      "execution_count": null,
      "outputs": [
        {
          "output_type": "stream",
          "name": "stdout",
          "text": [
            "['Donald Faison', 'John C. McGinley', 'Ken Jenkins', 'Zach Braff', 'Sarah Chalke']\n"
          ]
        }
      ]
    },
    {
      "cell_type": "code",
      "source": [
        "people = ia.search_person(actors[0])\n",
        "for person in people:\n",
        "  print(person.personID, person['name'])"
      ],
      "metadata": {
        "colab": {
          "base_uri": "https://localhost:8080/"
        },
        "id": "8hnz_MCxozOF",
        "outputId": "99f0f3c7-6d00-4ee1-ec3f-905189afd2f8"
      },
      "execution_count": null,
      "outputs": [
        {
          "output_type": "stream",
          "name": "stdout",
          "text": [
            "0265668 Donald Faison\n",
            "8479125 Kyle W. Brown\n",
            "3474361 Ronald Faison\n",
            "0388342 Donald Hodson\n",
            "0141245 Harry Carson\n",
            "1140342 Ronnie Dawson\n",
            "13523472 Donald Baison\n",
            "2113622 Don Lawson\n",
            "0265652 Don Fairservice\n",
            "10703653 Donald 'Pee Wee' Gaskins Jr.\n",
            "12536981 Donald Frison\n",
            "5892238 Ronald H. Balson\n",
            "0707216 Ronald Raison\n",
            "1497206 George Batson\n",
            "0265406 Donald Fair\n",
            "2913836 Donald Faiumu\n",
            "11647796 Donald Avison\n",
            "1359476 Ronnie Faisst\n",
            "1020571 Ron Manson\n",
            "0232035 Peter Donald\n"
          ]
        }
      ]
    },
    {
      "cell_type": "code",
      "source": [
        "person = ia.get_person(people[0].personID)"
      ],
      "metadata": {
        "id": "81stumlWzzQk"
      },
      "execution_count": null,
      "outputs": []
    },
    {
      "cell_type": "code",
      "source": [
        "person.keys()"
      ],
      "metadata": {
        "colab": {
          "base_uri": "https://localhost:8080/"
        },
        "id": "rrQ8EmCyz1tN",
        "outputId": "0f661619-f728-4f52-b6f2-1275a77ab27c"
      },
      "execution_count": null,
      "outputs": [
        {
          "output_type": "execute_result",
          "data": {
            "text/plain": [
              "['headshot',\n",
              " 'imdbID',\n",
              " 'name',\n",
              " 'filmography',\n",
              " 'canonical name',\n",
              " 'long imdb name',\n",
              " 'long imdb canonical name',\n",
              " 'full-size headshot']"
            ]
          },
          "metadata": {},
          "execution_count": 114
        }
      ]
    },
    {
      "cell_type": "code",
      "source": [
        "films = []\n",
        "\n",
        "try:\n",
        "  for title in person['filmography']['actress']:\n",
        "    films.append(title['title'])\n",
        "except KeyError:\n",
        "  for title in person['filmography']['actor']:\n",
        "    films.append(title['title'])\n",
        "\n",
        "\n",
        "films[:10]\n",
        "\n",
        "\n",
        "#for title in person['filmography']['actor']:\n",
        "#  temp = title['title']\n",
        "#  films.append(temp)\n",
        "\n",
        "#films[:10]"
      ],
      "metadata": {
        "colab": {
          "base_uri": "https://localhost:8080/"
        },
        "id": "16i3lZ5LvRcB",
        "outputId": "b9c6a699-40f0-4a6f-bb65-7fa329225af6"
      },
      "execution_count": null,
      "outputs": [
        {
          "output_type": "execute_result",
          "data": {
            "text/plain": [
              "['Extended Family',\n",
              " 'Powerpuff',\n",
              " 'Star Wars: Detours',\n",
              " 'Home Delivery',\n",
              " \"Alice's Wonderland Bakery\",\n",
              " 'HouseBroken',\n",
              " 'The Wonder Years',\n",
              " 'Clone High',\n",
              " 'The Boss Baby: Back in the Crib',\n",
              " 'The L Word: Generation Q']"
            ]
          },
          "metadata": {},
          "execution_count": 137
        }
      ]
    },
    {
      "cell_type": "code",
      "source": [
        "genres = []\n",
        "\n",
        "for title in films[:5]:\n",
        "  film_list = ia.search_movie(title)\n",
        "  film = ia.get_movie(movie.movieID)\n",
        "  temp = film['genres'][0]\n",
        "  genres.append(temp)\n",
        "\n",
        "#genres = set(genres)\n",
        "genres"
      ],
      "metadata": {
        "colab": {
          "base_uri": "https://localhost:8080/"
        },
        "id": "oLF4kqQA2tBO",
        "outputId": "1fb33354-4ff6-4a80-fdde-3e304ecd3146"
      },
      "execution_count": null,
      "outputs": [
        {
          "output_type": "execute_result",
          "data": {
            "text/plain": [
              "['Comedy', 'Comedy', 'Comedy', 'Comedy', 'Comedy']"
            ]
          },
          "metadata": {},
          "execution_count": 134
        }
      ]
    },
    {
      "cell_type": "code",
      "source": [
        "languages = []\n",
        "\n",
        "if 'year' in film.keys():\n",
        "  for title in films[:5]:\n",
        "    film_list = ia.search_movie(title)\n",
        "    film = ia.get_movie(movie.movieID)\n",
        "    temp = film['languages'][0]\n",
        "    genres.append(temp)\n",
        "\n",
        "#genres = set(genres)\n",
        "genres"
      ],
      "metadata": {
        "colab": {
          "base_uri": "https://localhost:8080/"
        },
        "id": "-owUJVYhH-TK",
        "outputId": "6312a923-53c4-4991-870e-a9cf122b7b20"
      },
      "execution_count": null,
      "outputs": [
        {
          "output_type": "execute_result",
          "data": {
            "text/plain": [
              "['Comedy',\n",
              " 'Comedy',\n",
              " 'Comedy',\n",
              " 'Comedy',\n",
              " 'Comedy',\n",
              " 'English',\n",
              " 'English',\n",
              " 'English',\n",
              " 'English',\n",
              " 'English']"
            ]
          },
          "metadata": {},
          "execution_count": 138
        }
      ]
    },
    {
      "cell_type": "code",
      "source": [
        "years = []\n",
        "\n",
        "for title in films[:5]:\n",
        "  film_list = ia.search_movie(title)\n",
        "  film = ia.get_movie(movie.movieID)\n",
        "  temp = film['year']\n",
        "  years.append(temp)\n",
        "\n",
        "years\n"
      ],
      "metadata": {
        "id": "BLmZxwtvBgXi",
        "colab": {
          "base_uri": "https://localhost:8080/",
          "height": 412
        },
        "outputId": "f12981c5-5492-48c6-de7c-cdebf2f98029"
      },
      "execution_count": null,
      "outputs": [
        {
          "output_type": "error",
          "ename": "KeyError",
          "evalue": "ignored",
          "traceback": [
            "\u001b[0;31m---------------------------------------------------------------------------\u001b[0m",
            "\u001b[0;31mKeyError\u001b[0m                                  Traceback (most recent call last)",
            "\u001b[0;32m<ipython-input-135-84e07f8cf4d9>\u001b[0m in \u001b[0;36m<cell line: 3>\u001b[0;34m()\u001b[0m\n\u001b[1;32m      4\u001b[0m   \u001b[0mfilm_list\u001b[0m \u001b[0;34m=\u001b[0m \u001b[0mia\u001b[0m\u001b[0;34m.\u001b[0m\u001b[0msearch_movie\u001b[0m\u001b[0;34m(\u001b[0m\u001b[0mtitle\u001b[0m\u001b[0;34m)\u001b[0m\u001b[0;34m\u001b[0m\u001b[0;34m\u001b[0m\u001b[0m\n\u001b[1;32m      5\u001b[0m   \u001b[0mfilm\u001b[0m \u001b[0;34m=\u001b[0m \u001b[0mia\u001b[0m\u001b[0;34m.\u001b[0m\u001b[0mget_movie\u001b[0m\u001b[0;34m(\u001b[0m\u001b[0mmovie\u001b[0m\u001b[0;34m.\u001b[0m\u001b[0mmovieID\u001b[0m\u001b[0;34m)\u001b[0m\u001b[0;34m\u001b[0m\u001b[0;34m\u001b[0m\u001b[0m\n\u001b[0;32m----> 6\u001b[0;31m   \u001b[0mtemp\u001b[0m \u001b[0;34m=\u001b[0m \u001b[0mfilm\u001b[0m\u001b[0;34m[\u001b[0m\u001b[0;34m'years'\u001b[0m\u001b[0;34m]\u001b[0m\u001b[0;34m\u001b[0m\u001b[0;34m\u001b[0m\u001b[0m\n\u001b[0m\u001b[1;32m      7\u001b[0m   \u001b[0myears\u001b[0m\u001b[0;34m.\u001b[0m\u001b[0mappend\u001b[0m\u001b[0;34m(\u001b[0m\u001b[0mtemp\u001b[0m\u001b[0;34m)\u001b[0m\u001b[0;34m\u001b[0m\u001b[0;34m\u001b[0m\u001b[0m\n\u001b[1;32m      8\u001b[0m \u001b[0;34m\u001b[0m\u001b[0m\n",
            "\u001b[0;32m/usr/local/lib/python3.10/dist-packages/imdb/utils.py\u001b[0m in \u001b[0;36m__getitem__\u001b[0;34m(self, key)\u001b[0m\n\u001b[1;32m   1501\u001b[0m             \u001b[0mrawData\u001b[0m \u001b[0;34m=\u001b[0m \u001b[0mself\u001b[0m\u001b[0;34m.\u001b[0m\u001b[0mdata\u001b[0m\u001b[0;34m[\u001b[0m\u001b[0mself\u001b[0m\u001b[0;34m.\u001b[0m\u001b[0mkeys_alias\u001b[0m\u001b[0;34m[\u001b[0m\u001b[0mkey\u001b[0m\u001b[0;34m]\u001b[0m\u001b[0;34m]\u001b[0m\u001b[0;34m\u001b[0m\u001b[0;34m\u001b[0m\u001b[0m\n\u001b[1;32m   1502\u001b[0m         \u001b[0;32melse\u001b[0m\u001b[0;34m:\u001b[0m\u001b[0;34m\u001b[0m\u001b[0;34m\u001b[0m\u001b[0m\n\u001b[0;32m-> 1503\u001b[0;31m             \u001b[0mrawData\u001b[0m \u001b[0;34m=\u001b[0m \u001b[0mself\u001b[0m\u001b[0;34m.\u001b[0m\u001b[0mdata\u001b[0m\u001b[0;34m[\u001b[0m\u001b[0mkey\u001b[0m\u001b[0;34m]\u001b[0m\u001b[0;34m\u001b[0m\u001b[0;34m\u001b[0m\u001b[0m\n\u001b[0m\u001b[1;32m   1504\u001b[0m         \u001b[0;32mif\u001b[0m \u001b[0mkey\u001b[0m \u001b[0;32min\u001b[0m \u001b[0mself\u001b[0m\u001b[0;34m.\u001b[0m\u001b[0mkeys_tomodify\u001b[0m \u001b[0;32mand\u001b[0m\u001b[0;31m \u001b[0m\u001b[0;31m\\\u001b[0m\u001b[0;34m\u001b[0m\u001b[0;34m\u001b[0m\u001b[0m\n\u001b[1;32m   1505\u001b[0m                 \u001b[0mself\u001b[0m\u001b[0;34m.\u001b[0m\u001b[0mmodFunct\u001b[0m \u001b[0;32mnot\u001b[0m \u001b[0;32min\u001b[0m \u001b[0;34m(\u001b[0m\u001b[0;32mNone\u001b[0m\u001b[0;34m,\u001b[0m \u001b[0mmodNull\u001b[0m\u001b[0;34m)\u001b[0m\u001b[0;34m:\u001b[0m\u001b[0;34m\u001b[0m\u001b[0;34m\u001b[0m\u001b[0m\n",
            "\u001b[0;31mKeyError\u001b[0m: 'years'"
          ]
        }
      ]
    },
    {
      "cell_type": "code",
      "source": [
        "ratings = []\n",
        "\n",
        "for title in films[:5]:\n",
        "  film_list = ia.search_movie(title)\n",
        "  film = ia.get_movie(movie.movieID)\n",
        "  temp = film['ratings']\n",
        "  years.append(temp)\n",
        "\n",
        "ratings"
      ],
      "metadata": {
        "colab": {
          "base_uri": "https://localhost:8080/",
          "height": 412
        },
        "id": "_d7oIRvpIi8K",
        "outputId": "740cca6e-861e-4ce2-9ee4-4e17af7bbaab"
      },
      "execution_count": null,
      "outputs": [
        {
          "output_type": "error",
          "ename": "KeyError",
          "evalue": "ignored",
          "traceback": [
            "\u001b[0;31m---------------------------------------------------------------------------\u001b[0m",
            "\u001b[0;31mKeyError\u001b[0m                                  Traceback (most recent call last)",
            "\u001b[0;32m<ipython-input-140-a6b1fb2c6d98>\u001b[0m in \u001b[0;36m<cell line: 3>\u001b[0;34m()\u001b[0m\n\u001b[1;32m      4\u001b[0m   \u001b[0mfilm_list\u001b[0m \u001b[0;34m=\u001b[0m \u001b[0mia\u001b[0m\u001b[0;34m.\u001b[0m\u001b[0msearch_movie\u001b[0m\u001b[0;34m(\u001b[0m\u001b[0mtitle\u001b[0m\u001b[0;34m)\u001b[0m\u001b[0;34m\u001b[0m\u001b[0;34m\u001b[0m\u001b[0m\n\u001b[1;32m      5\u001b[0m   \u001b[0mfilm\u001b[0m \u001b[0;34m=\u001b[0m \u001b[0mia\u001b[0m\u001b[0;34m.\u001b[0m\u001b[0mget_movie\u001b[0m\u001b[0;34m(\u001b[0m\u001b[0mmovie\u001b[0m\u001b[0;34m.\u001b[0m\u001b[0mmovieID\u001b[0m\u001b[0;34m)\u001b[0m\u001b[0;34m\u001b[0m\u001b[0;34m\u001b[0m\u001b[0m\n\u001b[0;32m----> 6\u001b[0;31m   \u001b[0mtemp\u001b[0m \u001b[0;34m=\u001b[0m \u001b[0mfilm\u001b[0m\u001b[0;34m[\u001b[0m\u001b[0;34m'ratings'\u001b[0m\u001b[0;34m]\u001b[0m\u001b[0;34m\u001b[0m\u001b[0;34m\u001b[0m\u001b[0m\n\u001b[0m\u001b[1;32m      7\u001b[0m   \u001b[0myears\u001b[0m\u001b[0;34m.\u001b[0m\u001b[0mappend\u001b[0m\u001b[0;34m(\u001b[0m\u001b[0mtemp\u001b[0m\u001b[0;34m)\u001b[0m\u001b[0;34m\u001b[0m\u001b[0;34m\u001b[0m\u001b[0m\n\u001b[1;32m      8\u001b[0m \u001b[0;34m\u001b[0m\u001b[0m\n",
            "\u001b[0;32m/usr/local/lib/python3.10/dist-packages/imdb/utils.py\u001b[0m in \u001b[0;36m__getitem__\u001b[0;34m(self, key)\u001b[0m\n\u001b[1;32m   1501\u001b[0m             \u001b[0mrawData\u001b[0m \u001b[0;34m=\u001b[0m \u001b[0mself\u001b[0m\u001b[0;34m.\u001b[0m\u001b[0mdata\u001b[0m\u001b[0;34m[\u001b[0m\u001b[0mself\u001b[0m\u001b[0;34m.\u001b[0m\u001b[0mkeys_alias\u001b[0m\u001b[0;34m[\u001b[0m\u001b[0mkey\u001b[0m\u001b[0;34m]\u001b[0m\u001b[0;34m]\u001b[0m\u001b[0;34m\u001b[0m\u001b[0;34m\u001b[0m\u001b[0m\n\u001b[1;32m   1502\u001b[0m         \u001b[0;32melse\u001b[0m\u001b[0;34m:\u001b[0m\u001b[0;34m\u001b[0m\u001b[0;34m\u001b[0m\u001b[0m\n\u001b[0;32m-> 1503\u001b[0;31m             \u001b[0mrawData\u001b[0m \u001b[0;34m=\u001b[0m \u001b[0mself\u001b[0m\u001b[0;34m.\u001b[0m\u001b[0mdata\u001b[0m\u001b[0;34m[\u001b[0m\u001b[0mkey\u001b[0m\u001b[0;34m]\u001b[0m\u001b[0;34m\u001b[0m\u001b[0;34m\u001b[0m\u001b[0m\n\u001b[0m\u001b[1;32m   1504\u001b[0m         \u001b[0;32mif\u001b[0m \u001b[0mkey\u001b[0m \u001b[0;32min\u001b[0m \u001b[0mself\u001b[0m\u001b[0;34m.\u001b[0m\u001b[0mkeys_tomodify\u001b[0m \u001b[0;32mand\u001b[0m\u001b[0;31m \u001b[0m\u001b[0;31m\\\u001b[0m\u001b[0;34m\u001b[0m\u001b[0;34m\u001b[0m\u001b[0m\n\u001b[1;32m   1505\u001b[0m                 \u001b[0mself\u001b[0m\u001b[0;34m.\u001b[0m\u001b[0mmodFunct\u001b[0m \u001b[0;32mnot\u001b[0m \u001b[0;32min\u001b[0m \u001b[0;34m(\u001b[0m\u001b[0;32mNone\u001b[0m\u001b[0;34m,\u001b[0m \u001b[0mmodNull\u001b[0m\u001b[0;34m)\u001b[0m\u001b[0;34m:\u001b[0m\u001b[0;34m\u001b[0m\u001b[0;34m\u001b[0m\u001b[0m\n",
            "\u001b[0;31mKeyError\u001b[0m: 'ratings'"
          ]
        }
      ]
    },
    {
      "cell_type": "code",
      "source": [
        "whole_info = dict()\n",
        "whole_info['films'] = films\n",
        "whole_info['genres'] = genres\n",
        "whole_info['languages'] = languages\n",
        "whole_info['years'] = years\n",
        "whole_info['ratings'] = ratings\n",
        "\n",
        "whole_info"
      ],
      "metadata": {
        "colab": {
          "base_uri": "https://localhost:8080/"
        },
        "id": "HEOr7QMo7_X3",
        "outputId": "38ff2d7e-fb1a-4940-e6d7-2a2cf322a942"
      },
      "execution_count": null,
      "outputs": [
        {
          "output_type": "execute_result",
          "data": {
            "text/plain": [
              "{'films': ['Extended Family',\n",
              "  'Powerpuff',\n",
              "  'Star Wars: Detours',\n",
              "  'Home Delivery',\n",
              "  \"Alice's Wonderland Bakery\",\n",
              "  'HouseBroken',\n",
              "  'The Wonder Years',\n",
              "  'Clone High',\n",
              "  'The Boss Baby: Back in the Crib',\n",
              "  'The L Word: Generation Q',\n",
              "  'Robot Chicken',\n",
              "  \"DC's Legends of Tomorrow\",\n",
              "  'Alabama Jackson',\n",
              "  'Infinity Train',\n",
              "  'Church People',\n",
              "  'Blark and Son',\n",
              "  'Vampirina',\n",
              "  'Embattled',\n",
              "  'Star Wars: The Clone Wars',\n",
              "  'Emergence',\n",
              "  'Star Wars Resistance',\n",
              "  'Timeline',\n",
              "  'The Wave',\n",
              "  'Ryan Hansen Solves Crimes on Television',\n",
              "  'Ray Donovan',\n",
              "  'Erase',\n",
              "  'Most Likely To',\n",
              "  'Drunk History',\n",
              "  'SuperMansion',\n",
              "  'Game Over, Man!',\n",
              "  'Unsolved: The Murders of Tupac and the Notorious B.I.G.',\n",
              "  'The Will Leitch Show',\n",
              "  'Cigna: TV Doctors of America - Emergency',\n",
              "  'Spaced Out',\n",
              "  'Cigna: TV Doctors of America - Even More Drama',\n",
              "  'Little Evil',\n",
              "  'Cigna: TV Doctors of America',\n",
              "  'House of Lies',\n",
              "  'The Perfect Match',\n",
              "  'Hot Bot',\n",
              "  'The Exes',\n",
              "  'Undateable',\n",
              "  \"Let's Kill Ward's Wife\",\n",
              "  \"Jim Henson's Creature Shop Challenge\",\n",
              "  'Wish I Was Here',\n",
              "  'A Snow Globe Christmas',\n",
              "  'Stag',\n",
              "  'Kick-Ass 2',\n",
              "  'Wedding Band',\n",
              "  'Tron: Uprising',\n",
              "  'Pitch Perfect',\n",
              "  'Adventure Time',\n",
              "  'Love Bites',\n",
              "  'Cease and Deceased',\n",
              "  'The Odds',\n",
              "  'Robot Chicken: Star Wars III',\n",
              "  'Venus & Vegas',\n",
              "  'Cubed',\n",
              "  'Skyline',\n",
              "  'FCU: Fact Checkers Unit',\n",
              "  'Scrubs',\n",
              "  'The Law',\n",
              "  'American Dad!',\n",
              "  'Titan Maximum',\n",
              "  'Next Day Air',\n",
              "  'Scrubs: Interns',\n",
              "  'Robot Chicken: Star Wars Episode II',\n",
              "  'Fall Out Boy Feat. John Mayer: Beat It',\n",
              "  'The Boondocks',\n",
              "  'Kim Possible',\n",
              "  'Robot Chicken: Star Wars',\n",
              "  'Saturday Night Live',\n",
              "  'Homie Spumoni',\n",
              "  'Vegas, Baby',\n",
              "  'Something New',\n",
              "  'Higglytown Heroes',\n",
              "  \"King's Ransom\",\n",
              "  'Good Boy',\n",
              "  'Uptown Girls',\n",
              "  'Ravedactyl: Project Evolution',\n",
              "  'Clone High',\n",
              "  'Felicity',\n",
              "  'Big Fat Liar',\n",
              "  'Josie and the Pussycats',\n",
              "  'Double Whammy',\n",
              "  'Remember the Titans',\n",
              "  'Clueless',\n",
              "  \"Trippin'\",\n",
              "  'Supreme Sanction',\n",
              "  'Sister, Sister',\n",
              "  'Sabrina the Teenage Witch',\n",
              "  \"Can't Hardly Wait\",\n",
              "  'Butter',\n",
              "  'Academy Boyz',\n",
              "  'New York Undercover',\n",
              "  \"Brandy: Sittin' Up in My Room\",\n",
              "  'Waiting to Exhale',\n",
              "  '12 Monkeys',\n",
              "  'Clueless',\n",
              "  'New Jersey Drive',\n",
              "  'Sugar Hill',\n",
              "  'Sesame Street',\n",
              "  'Juice'],\n",
              " 'genres': {'Comedy'}}"
            ]
          },
          "metadata": {},
          "execution_count": 120
        }
      ]
    },
    {
      "cell_type": "code",
      "source": [
        "cards.append({actor['canonical name']: whole_info})\n",
        "cards"
      ],
      "metadata": {
        "colab": {
          "base_uri": "https://localhost:8080/"
        },
        "id": "WzUToZO985Qz",
        "outputId": "c66aa268-edbe-429a-f7f3-4a4b671a5613"
      },
      "execution_count": null,
      "outputs": [
        {
          "output_type": "execute_result",
          "data": {
            "text/plain": [
              "[{'Estes, Cody': {'films': ['Extended Family',\n",
              "    'Powerpuff',\n",
              "    'Star Wars: Detours',\n",
              "    'Home Delivery',\n",
              "    \"Alice's Wonderland Bakery\",\n",
              "    'HouseBroken',\n",
              "    'The Wonder Years',\n",
              "    'Clone High',\n",
              "    'The Boss Baby: Back in the Crib',\n",
              "    'The L Word: Generation Q',\n",
              "    'Robot Chicken',\n",
              "    \"DC's Legends of Tomorrow\",\n",
              "    'Alabama Jackson',\n",
              "    'Infinity Train',\n",
              "    'Church People',\n",
              "    'Blark and Son',\n",
              "    'Vampirina',\n",
              "    'Embattled',\n",
              "    'Star Wars: The Clone Wars',\n",
              "    'Emergence',\n",
              "    'Star Wars Resistance',\n",
              "    'Timeline',\n",
              "    'The Wave',\n",
              "    'Ryan Hansen Solves Crimes on Television',\n",
              "    'Ray Donovan',\n",
              "    'Erase',\n",
              "    'Most Likely To',\n",
              "    'Drunk History',\n",
              "    'SuperMansion',\n",
              "    'Game Over, Man!',\n",
              "    'Unsolved: The Murders of Tupac and the Notorious B.I.G.',\n",
              "    'The Will Leitch Show',\n",
              "    'Cigna: TV Doctors of America - Emergency',\n",
              "    'Spaced Out',\n",
              "    'Cigna: TV Doctors of America - Even More Drama',\n",
              "    'Little Evil',\n",
              "    'Cigna: TV Doctors of America',\n",
              "    'House of Lies',\n",
              "    'The Perfect Match',\n",
              "    'Hot Bot',\n",
              "    'The Exes',\n",
              "    'Undateable',\n",
              "    \"Let's Kill Ward's Wife\",\n",
              "    \"Jim Henson's Creature Shop Challenge\",\n",
              "    'Wish I Was Here',\n",
              "    'A Snow Globe Christmas',\n",
              "    'Stag',\n",
              "    'Kick-Ass 2',\n",
              "    'Wedding Band',\n",
              "    'Tron: Uprising',\n",
              "    'Pitch Perfect',\n",
              "    'Adventure Time',\n",
              "    'Love Bites',\n",
              "    'Cease and Deceased',\n",
              "    'The Odds',\n",
              "    'Robot Chicken: Star Wars III',\n",
              "    'Venus & Vegas',\n",
              "    'Cubed',\n",
              "    'Skyline',\n",
              "    'FCU: Fact Checkers Unit',\n",
              "    'Scrubs',\n",
              "    'The Law',\n",
              "    'American Dad!',\n",
              "    'Titan Maximum',\n",
              "    'Next Day Air',\n",
              "    'Scrubs: Interns',\n",
              "    'Robot Chicken: Star Wars Episode II',\n",
              "    'Fall Out Boy Feat. John Mayer: Beat It',\n",
              "    'The Boondocks',\n",
              "    'Kim Possible',\n",
              "    'Robot Chicken: Star Wars',\n",
              "    'Saturday Night Live',\n",
              "    'Homie Spumoni',\n",
              "    'Vegas, Baby',\n",
              "    'Something New',\n",
              "    'Higglytown Heroes',\n",
              "    \"King's Ransom\",\n",
              "    'Good Boy',\n",
              "    'Uptown Girls',\n",
              "    'Ravedactyl: Project Evolution',\n",
              "    'Clone High',\n",
              "    'Felicity',\n",
              "    'Big Fat Liar',\n",
              "    'Josie and the Pussycats',\n",
              "    'Double Whammy',\n",
              "    'Remember the Titans',\n",
              "    'Clueless',\n",
              "    \"Trippin'\",\n",
              "    'Supreme Sanction',\n",
              "    'Sister, Sister',\n",
              "    'Sabrina the Teenage Witch',\n",
              "    \"Can't Hardly Wait\",\n",
              "    'Butter',\n",
              "    'Academy Boyz',\n",
              "    'New York Undercover',\n",
              "    \"Brandy: Sittin' Up in My Room\",\n",
              "    'Waiting to Exhale',\n",
              "    '12 Monkeys',\n",
              "    'Clueless',\n",
              "    'New Jersey Drive',\n",
              "    'Sugar Hill',\n",
              "    'Sesame Street',\n",
              "    'Juice'],\n",
              "   'genres': {'Comedy'}}},\n",
              " {'Estes, Cody': {'films': ['Extended Family',\n",
              "    'Powerpuff',\n",
              "    'Star Wars: Detours',\n",
              "    'Home Delivery',\n",
              "    \"Alice's Wonderland Bakery\",\n",
              "    'HouseBroken',\n",
              "    'The Wonder Years',\n",
              "    'Clone High',\n",
              "    'The Boss Baby: Back in the Crib',\n",
              "    'The L Word: Generation Q',\n",
              "    'Robot Chicken',\n",
              "    \"DC's Legends of Tomorrow\",\n",
              "    'Alabama Jackson',\n",
              "    'Infinity Train',\n",
              "    'Church People',\n",
              "    'Blark and Son',\n",
              "    'Vampirina',\n",
              "    'Embattled',\n",
              "    'Star Wars: The Clone Wars',\n",
              "    'Emergence',\n",
              "    'Star Wars Resistance',\n",
              "    'Timeline',\n",
              "    'The Wave',\n",
              "    'Ryan Hansen Solves Crimes on Television',\n",
              "    'Ray Donovan',\n",
              "    'Erase',\n",
              "    'Most Likely To',\n",
              "    'Drunk History',\n",
              "    'SuperMansion',\n",
              "    'Game Over, Man!',\n",
              "    'Unsolved: The Murders of Tupac and the Notorious B.I.G.',\n",
              "    'The Will Leitch Show',\n",
              "    'Cigna: TV Doctors of America - Emergency',\n",
              "    'Spaced Out',\n",
              "    'Cigna: TV Doctors of America - Even More Drama',\n",
              "    'Little Evil',\n",
              "    'Cigna: TV Doctors of America',\n",
              "    'House of Lies',\n",
              "    'The Perfect Match',\n",
              "    'Hot Bot',\n",
              "    'The Exes',\n",
              "    'Undateable',\n",
              "    \"Let's Kill Ward's Wife\",\n",
              "    \"Jim Henson's Creature Shop Challenge\",\n",
              "    'Wish I Was Here',\n",
              "    'A Snow Globe Christmas',\n",
              "    'Stag',\n",
              "    'Kick-Ass 2',\n",
              "    'Wedding Band',\n",
              "    'Tron: Uprising',\n",
              "    'Pitch Perfect',\n",
              "    'Adventure Time',\n",
              "    'Love Bites',\n",
              "    'Cease and Deceased',\n",
              "    'The Odds',\n",
              "    'Robot Chicken: Star Wars III',\n",
              "    'Venus & Vegas',\n",
              "    'Cubed',\n",
              "    'Skyline',\n",
              "    'FCU: Fact Checkers Unit',\n",
              "    'Scrubs',\n",
              "    'The Law',\n",
              "    'American Dad!',\n",
              "    'Titan Maximum',\n",
              "    'Next Day Air',\n",
              "    'Scrubs: Interns',\n",
              "    'Robot Chicken: Star Wars Episode II',\n",
              "    'Fall Out Boy Feat. John Mayer: Beat It',\n",
              "    'The Boondocks',\n",
              "    'Kim Possible',\n",
              "    'Robot Chicken: Star Wars',\n",
              "    'Saturday Night Live',\n",
              "    'Homie Spumoni',\n",
              "    'Vegas, Baby',\n",
              "    'Something New',\n",
              "    'Higglytown Heroes',\n",
              "    \"King's Ransom\",\n",
              "    'Good Boy',\n",
              "    'Uptown Girls',\n",
              "    'Ravedactyl: Project Evolution',\n",
              "    'Clone High',\n",
              "    'Felicity',\n",
              "    'Big Fat Liar',\n",
              "    'Josie and the Pussycats',\n",
              "    'Double Whammy',\n",
              "    'Remember the Titans',\n",
              "    'Clueless',\n",
              "    \"Trippin'\",\n",
              "    'Supreme Sanction',\n",
              "    'Sister, Sister',\n",
              "    'Sabrina the Teenage Witch',\n",
              "    \"Can't Hardly Wait\",\n",
              "    'Butter',\n",
              "    'Academy Boyz',\n",
              "    'New York Undercover',\n",
              "    \"Brandy: Sittin' Up in My Room\",\n",
              "    'Waiting to Exhale',\n",
              "    '12 Monkeys',\n",
              "    'Clueless',\n",
              "    'New Jersey Drive',\n",
              "    'Sugar Hill',\n",
              "    'Sesame Street',\n",
              "    'Juice'],\n",
              "   'genres': {'Comedy'}}}]"
            ]
          },
          "metadata": {},
          "execution_count": 125
        }
      ]
    },
    {
      "cell_type": "code",
      "source": [
        "almost_card = {'films': films, 'genres': genres, 'languages': languages, 'years': years, 'ratings': ratings}\n",
        "almost_card"
      ],
      "metadata": {
        "colab": {
          "base_uri": "https://localhost:8080/"
        },
        "id": "V84KnyWP5SHL",
        "outputId": "eeca292b-fc12-4c01-93fc-c395eda73b60"
      },
      "execution_count": null,
      "outputs": [
        {
          "output_type": "execute_result",
          "data": {
            "text/plain": [
              "{'films': ['Extended Family',\n",
              "  'Powerpuff',\n",
              "  'Star Wars: Detours',\n",
              "  'Home Delivery',\n",
              "  \"Alice's Wonderland Bakery\",\n",
              "  'HouseBroken',\n",
              "  'The Wonder Years',\n",
              "  'Clone High',\n",
              "  'The Boss Baby: Back in the Crib',\n",
              "  'The L Word: Generation Q',\n",
              "  'Robot Chicken',\n",
              "  \"DC's Legends of Tomorrow\",\n",
              "  'Alabama Jackson',\n",
              "  'Infinity Train',\n",
              "  'Church People',\n",
              "  'Blark and Son',\n",
              "  'Vampirina',\n",
              "  'Embattled',\n",
              "  'Star Wars: The Clone Wars',\n",
              "  'Emergence',\n",
              "  'Star Wars Resistance',\n",
              "  'Timeline',\n",
              "  'The Wave',\n",
              "  'Ryan Hansen Solves Crimes on Television',\n",
              "  'Ray Donovan',\n",
              "  'Erase',\n",
              "  'Most Likely To',\n",
              "  'Drunk History',\n",
              "  'SuperMansion',\n",
              "  'Game Over, Man!',\n",
              "  'Unsolved: The Murders of Tupac and the Notorious B.I.G.',\n",
              "  'The Will Leitch Show',\n",
              "  'Cigna: TV Doctors of America - Emergency',\n",
              "  'Spaced Out',\n",
              "  'Cigna: TV Doctors of America - Even More Drama',\n",
              "  'Little Evil',\n",
              "  'Cigna: TV Doctors of America',\n",
              "  'House of Lies',\n",
              "  'The Perfect Match',\n",
              "  'Hot Bot',\n",
              "  'The Exes',\n",
              "  'Undateable',\n",
              "  \"Let's Kill Ward's Wife\",\n",
              "  \"Jim Henson's Creature Shop Challenge\",\n",
              "  'Wish I Was Here',\n",
              "  'A Snow Globe Christmas',\n",
              "  'Stag',\n",
              "  'Kick-Ass 2',\n",
              "  'Wedding Band',\n",
              "  'Tron: Uprising',\n",
              "  'Pitch Perfect',\n",
              "  'Adventure Time',\n",
              "  'Love Bites',\n",
              "  'Cease and Deceased',\n",
              "  'The Odds',\n",
              "  'Robot Chicken: Star Wars III',\n",
              "  'Venus & Vegas',\n",
              "  'Cubed',\n",
              "  'Skyline',\n",
              "  'FCU: Fact Checkers Unit',\n",
              "  'Scrubs',\n",
              "  'The Law',\n",
              "  'American Dad!',\n",
              "  'Titan Maximum',\n",
              "  'Next Day Air',\n",
              "  'Scrubs: Interns',\n",
              "  'Robot Chicken: Star Wars Episode II',\n",
              "  'Fall Out Boy Feat. John Mayer: Beat It',\n",
              "  'The Boondocks',\n",
              "  'Kim Possible',\n",
              "  'Robot Chicken: Star Wars',\n",
              "  'Saturday Night Live',\n",
              "  'Homie Spumoni',\n",
              "  'Vegas, Baby',\n",
              "  'Something New',\n",
              "  'Higglytown Heroes',\n",
              "  \"King's Ransom\",\n",
              "  'Good Boy',\n",
              "  'Uptown Girls',\n",
              "  'Ravedactyl: Project Evolution',\n",
              "  'Clone High',\n",
              "  'Felicity',\n",
              "  'Big Fat Liar',\n",
              "  'Josie and the Pussycats',\n",
              "  'Double Whammy',\n",
              "  'Remember the Titans',\n",
              "  'Clueless',\n",
              "  \"Trippin'\",\n",
              "  'Supreme Sanction',\n",
              "  'Sister, Sister',\n",
              "  'Sabrina the Teenage Witch',\n",
              "  \"Can't Hardly Wait\",\n",
              "  'Butter',\n",
              "  'Academy Boyz',\n",
              "  'New York Undercover',\n",
              "  \"Brandy: Sittin' Up in My Room\",\n",
              "  'Waiting to Exhale',\n",
              "  '12 Monkeys',\n",
              "  'Clueless',\n",
              "  'New Jersey Drive',\n",
              "  'Sugar Hill',\n",
              "  'Sesame Street',\n",
              "  'Juice'],\n",
              " 'genres': {'Comedy'}}"
            ]
          },
          "metadata": {},
          "execution_count": 98
        }
      ]
    },
    {
      "cell_type": "code",
      "source": [
        "temp = dict()\n",
        "temp[person['canonical name']] = almost_card\n",
        "\n",
        "temp"
      ],
      "metadata": {
        "colab": {
          "base_uri": "https://localhost:8080/"
        },
        "id": "GrQOlchC8BGg",
        "outputId": "ffa49785-30eb-4fb0-fa8a-9972cb6d4776"
      },
      "execution_count": null,
      "outputs": [
        {
          "output_type": "execute_result",
          "data": {
            "text/plain": [
              "{'Faison, Donald': {'films': ['Extended Family',\n",
              "   'Powerpuff',\n",
              "   'Star Wars: Detours',\n",
              "   'Home Delivery',\n",
              "   \"Alice's Wonderland Bakery\",\n",
              "   'HouseBroken',\n",
              "   'The Wonder Years',\n",
              "   'Clone High',\n",
              "   'The Boss Baby: Back in the Crib',\n",
              "   'The L Word: Generation Q',\n",
              "   'Robot Chicken',\n",
              "   \"DC's Legends of Tomorrow\",\n",
              "   'Alabama Jackson',\n",
              "   'Infinity Train',\n",
              "   'Church People',\n",
              "   'Blark and Son',\n",
              "   'Vampirina',\n",
              "   'Embattled',\n",
              "   'Star Wars: The Clone Wars',\n",
              "   'Emergence',\n",
              "   'Star Wars Resistance',\n",
              "   'Timeline',\n",
              "   'The Wave',\n",
              "   'Ryan Hansen Solves Crimes on Television',\n",
              "   'Ray Donovan',\n",
              "   'Erase',\n",
              "   'Most Likely To',\n",
              "   'Drunk History',\n",
              "   'SuperMansion',\n",
              "   'Game Over, Man!',\n",
              "   'Unsolved: The Murders of Tupac and the Notorious B.I.G.',\n",
              "   'The Will Leitch Show',\n",
              "   'Cigna: TV Doctors of America - Emergency',\n",
              "   'Spaced Out',\n",
              "   'Cigna: TV Doctors of America - Even More Drama',\n",
              "   'Little Evil',\n",
              "   'Cigna: TV Doctors of America',\n",
              "   'House of Lies',\n",
              "   'The Perfect Match',\n",
              "   'Hot Bot',\n",
              "   'The Exes',\n",
              "   'Undateable',\n",
              "   \"Let's Kill Ward's Wife\",\n",
              "   \"Jim Henson's Creature Shop Challenge\",\n",
              "   'Wish I Was Here',\n",
              "   'A Snow Globe Christmas',\n",
              "   'Stag',\n",
              "   'Kick-Ass 2',\n",
              "   'Wedding Band',\n",
              "   'Tron: Uprising',\n",
              "   'Pitch Perfect',\n",
              "   'Adventure Time',\n",
              "   'Love Bites',\n",
              "   'Cease and Deceased',\n",
              "   'The Odds',\n",
              "   'Robot Chicken: Star Wars III',\n",
              "   'Venus & Vegas',\n",
              "   'Cubed',\n",
              "   'Skyline',\n",
              "   'FCU: Fact Checkers Unit',\n",
              "   'Scrubs',\n",
              "   'The Law',\n",
              "   'American Dad!',\n",
              "   'Titan Maximum',\n",
              "   'Next Day Air',\n",
              "   'Scrubs: Interns',\n",
              "   'Robot Chicken: Star Wars Episode II',\n",
              "   'Fall Out Boy Feat. John Mayer: Beat It',\n",
              "   'The Boondocks',\n",
              "   'Kim Possible',\n",
              "   'Robot Chicken: Star Wars',\n",
              "   'Saturday Night Live',\n",
              "   'Homie Spumoni',\n",
              "   'Vegas, Baby',\n",
              "   'Something New',\n",
              "   'Higglytown Heroes',\n",
              "   \"King's Ransom\",\n",
              "   'Good Boy',\n",
              "   'Uptown Girls',\n",
              "   'Ravedactyl: Project Evolution',\n",
              "   'Clone High',\n",
              "   'Felicity',\n",
              "   'Big Fat Liar',\n",
              "   'Josie and the Pussycats',\n",
              "   'Double Whammy',\n",
              "   'Remember the Titans',\n",
              "   'Clueless',\n",
              "   \"Trippin'\",\n",
              "   'Supreme Sanction',\n",
              "   'Sister, Sister',\n",
              "   'Sabrina the Teenage Witch',\n",
              "   \"Can't Hardly Wait\",\n",
              "   'Butter',\n",
              "   'Academy Boyz',\n",
              "   'New York Undercover',\n",
              "   \"Brandy: Sittin' Up in My Room\",\n",
              "   'Waiting to Exhale',\n",
              "   '12 Monkeys',\n",
              "   'Clueless',\n",
              "   'New Jersey Drive',\n",
              "   'Sugar Hill',\n",
              "   'Sesame Street',\n",
              "   'Juice'],\n",
              "  'genres': {'Comedy'}}}"
            ]
          },
          "metadata": {},
          "execution_count": 93
        }
      ]
    },
    {
      "cell_type": "code",
      "source": [
        "cards = []\n",
        "cards.append(temp)\n",
        "cards"
      ],
      "metadata": {
        "colab": {
          "base_uri": "https://localhost:8080/"
        },
        "id": "RU-r6wYG7sqI",
        "outputId": "ebc7466b-3fdc-44ac-ef06-286aad59f76b"
      },
      "execution_count": null,
      "outputs": [
        {
          "output_type": "execute_result",
          "data": {
            "text/plain": [
              "[{'Faison, Donald': {'films': ['Extended Family',\n",
              "    'Powerpuff',\n",
              "    'Star Wars: Detours',\n",
              "    'Home Delivery',\n",
              "    \"Alice's Wonderland Bakery\",\n",
              "    'HouseBroken',\n",
              "    'The Wonder Years',\n",
              "    'Clone High',\n",
              "    'The Boss Baby: Back in the Crib',\n",
              "    'The L Word: Generation Q',\n",
              "    'Robot Chicken',\n",
              "    \"DC's Legends of Tomorrow\",\n",
              "    'Alabama Jackson',\n",
              "    'Infinity Train',\n",
              "    'Church People',\n",
              "    'Blark and Son',\n",
              "    'Vampirina',\n",
              "    'Embattled',\n",
              "    'Star Wars: The Clone Wars',\n",
              "    'Emergence',\n",
              "    'Star Wars Resistance',\n",
              "    'Timeline',\n",
              "    'The Wave',\n",
              "    'Ryan Hansen Solves Crimes on Television',\n",
              "    'Ray Donovan',\n",
              "    'Erase',\n",
              "    'Most Likely To',\n",
              "    'Drunk History',\n",
              "    'SuperMansion',\n",
              "    'Game Over, Man!',\n",
              "    'Unsolved: The Murders of Tupac and the Notorious B.I.G.',\n",
              "    'The Will Leitch Show',\n",
              "    'Cigna: TV Doctors of America - Emergency',\n",
              "    'Spaced Out',\n",
              "    'Cigna: TV Doctors of America - Even More Drama',\n",
              "    'Little Evil',\n",
              "    'Cigna: TV Doctors of America',\n",
              "    'House of Lies',\n",
              "    'The Perfect Match',\n",
              "    'Hot Bot',\n",
              "    'The Exes',\n",
              "    'Undateable',\n",
              "    \"Let's Kill Ward's Wife\",\n",
              "    \"Jim Henson's Creature Shop Challenge\",\n",
              "    'Wish I Was Here',\n",
              "    'A Snow Globe Christmas',\n",
              "    'Stag',\n",
              "    'Kick-Ass 2',\n",
              "    'Wedding Band',\n",
              "    'Tron: Uprising',\n",
              "    'Pitch Perfect',\n",
              "    'Adventure Time',\n",
              "    'Love Bites',\n",
              "    'Cease and Deceased',\n",
              "    'The Odds',\n",
              "    'Robot Chicken: Star Wars III',\n",
              "    'Venus & Vegas',\n",
              "    'Cubed',\n",
              "    'Skyline',\n",
              "    'FCU: Fact Checkers Unit',\n",
              "    'Scrubs',\n",
              "    'The Law',\n",
              "    'American Dad!',\n",
              "    'Titan Maximum',\n",
              "    'Next Day Air',\n",
              "    'Scrubs: Interns',\n",
              "    'Robot Chicken: Star Wars Episode II',\n",
              "    'Fall Out Boy Feat. John Mayer: Beat It',\n",
              "    'The Boondocks',\n",
              "    'Kim Possible',\n",
              "    'Robot Chicken: Star Wars',\n",
              "    'Saturday Night Live',\n",
              "    'Homie Spumoni',\n",
              "    'Vegas, Baby',\n",
              "    'Something New',\n",
              "    'Higglytown Heroes',\n",
              "    \"King's Ransom\",\n",
              "    'Good Boy',\n",
              "    'Uptown Girls',\n",
              "    'Ravedactyl: Project Evolution',\n",
              "    'Clone High',\n",
              "    'Felicity',\n",
              "    'Big Fat Liar',\n",
              "    'Josie and the Pussycats',\n",
              "    'Double Whammy',\n",
              "    'Remember the Titans',\n",
              "    'Clueless',\n",
              "    \"Trippin'\",\n",
              "    'Supreme Sanction',\n",
              "    'Sister, Sister',\n",
              "    'Sabrina the Teenage Witch',\n",
              "    \"Can't Hardly Wait\",\n",
              "    'Butter',\n",
              "    'Academy Boyz',\n",
              "    'New York Undercover',\n",
              "    \"Brandy: Sittin' Up in My Room\",\n",
              "    'Waiting to Exhale',\n",
              "    '12 Monkeys',\n",
              "    'Clueless',\n",
              "    'New Jersey Drive',\n",
              "    'Sugar Hill',\n",
              "    'Sesame Street',\n",
              "    'Juice'],\n",
              "   'genres': {'Comedy'}}}]"
            ]
          },
          "metadata": {},
          "execution_count": 94
        }
      ]
    },
    {
      "cell_type": "code",
      "source": [
        "def get_value(key):\n",
        "    try:\n",
        "        return film[key]\n",
        "    except KeyError:\n",
        "        pass\n",
        "\n",
        "for title in films[5:15]:\n",
        "   film_list = ia.search_movie(title)\n",
        "   film = ia.get_movie(film_list[0].movieID)\n",
        "\n",
        "   list(genres).append(get_value('genres'))\n",
        "   #languages.append(get_value('languages'))\n",
        "   #years.append(get_value('year'))\n",
        "   #ratings.append(get_value('rating'))"
      ],
      "metadata": {
        "id": "K68jZF1t_Mw5"
      },
      "execution_count": null,
      "outputs": []
    }
  ]
}