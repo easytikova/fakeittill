{
  "nbformat": 4,
  "nbformat_minor": 0,
  "metadata": {
    "colab": {
      "provenance": [],
      "authorship_tag": "ABX9TyOE7CZIC0OsdOMtdgvo7m13",
      "include_colab_link": true
    },
    "kernelspec": {
      "name": "python3",
      "display_name": "Python 3"
    },
    "language_info": {
      "name": "python"
    }
  },
  "cells": [
    {
      "cell_type": "markdown",
      "metadata": {
        "id": "view-in-github",
        "colab_type": "text"
      },
      "source": [
        "<a href=\"https://colab.research.google.com/github/easytikova/fakeittill/blob/main/6_7_IMDB_%D0%BC%D0%BE%D1%8F_%D0%BF%D0%BE%D0%BF%D1%8B%D1%82%D0%BA%D0%B0_%D0%BD%D0%BE%D0%BC%D0%B5%D1%80_5.ipynb\" target=\"_parent\"><img src=\"https://colab.research.google.com/assets/colab-badge.svg\" alt=\"Open In Colab\"/></a>"
      ]
    },
    {
      "cell_type": "code",
      "execution_count": 3,
      "metadata": {
        "colab": {
          "base_uri": "https://localhost:8080/"
        },
        "id": "AOaFNMsP3wXg",
        "outputId": "e7b6cac1-0e9f-4854-86b1-a3b4ed939efe"
      },
      "outputs": [
        {
          "output_type": "stream",
          "name": "stdout",
          "text": [
            "Collecting cinemagoer\n",
            "  Downloading cinemagoer-2023.5.1-py3-none-any.whl (297 kB)\n",
            "\u001b[?25l     \u001b[90m━━━━━━━━━━━━━━━━━━━━━━━━━━━━━━━━━━━━━━━━\u001b[0m \u001b[32m0.0/297.2 kB\u001b[0m \u001b[31m?\u001b[0m eta \u001b[36m-:--:--\u001b[0m\r\u001b[2K     \u001b[91m━━━━━━━━━━━━━━━━━━━━━━━━━━━━━━\u001b[0m\u001b[90m╺\u001b[0m\u001b[90m━━━━━━━━━\u001b[0m \u001b[32m225.3/297.2 kB\u001b[0m \u001b[31m6.5 MB/s\u001b[0m eta \u001b[36m0:00:01\u001b[0m\r\u001b[2K     \u001b[90m━━━━━━━━━━━━━━━━━━━━━━━━━━━━━━━━━━━━━━━━\u001b[0m \u001b[32m297.2/297.2 kB\u001b[0m \u001b[31m6.2 MB/s\u001b[0m eta \u001b[36m0:00:00\u001b[0m\n",
            "\u001b[?25hRequirement already satisfied: SQLAlchemy in /usr/local/lib/python3.10/dist-packages (from cinemagoer) (2.0.22)\n",
            "Requirement already satisfied: lxml in /usr/local/lib/python3.10/dist-packages (from cinemagoer) (4.9.3)\n",
            "Requirement already satisfied: typing-extensions>=4.2.0 in /usr/local/lib/python3.10/dist-packages (from SQLAlchemy->cinemagoer) (4.5.0)\n",
            "Requirement already satisfied: greenlet!=0.4.17 in /usr/local/lib/python3.10/dist-packages (from SQLAlchemy->cinemagoer) (3.0.0)\n",
            "Installing collected packages: cinemagoer\n",
            "Successfully installed cinemagoer-2023.5.1\n"
          ]
        }
      ],
      "source": [
        "!pip install cinemagoer\n",
        "from imdb import Cinemagoer"
      ]
    },
    {
      "cell_type": "code",
      "source": [
        "ia = Cinemagoer()\n",
        "movie = ia.get_movie('0285403')\n",
        "sorted(movie.keys())"
      ],
      "metadata": {
        "colab": {
          "base_uri": "https://localhost:8080/"
        },
        "id": "ci0Xww4447Bw",
        "outputId": "fda2d305-b040-4bbc-ee24-fb44c9f1dd74"
      },
      "execution_count": 5,
      "outputs": [
        {
          "output_type": "execute_result",
          "data": {
            "text/plain": [
              "['akas',\n",
              " 'aspect ratio',\n",
              " 'canonical title',\n",
              " 'cast',\n",
              " 'certificates',\n",
              " 'color info',\n",
              " 'countries',\n",
              " 'country codes',\n",
              " 'cover url',\n",
              " 'distributors',\n",
              " 'full-size cover url',\n",
              " 'genres',\n",
              " 'imdbID',\n",
              " 'kind',\n",
              " 'language codes',\n",
              " 'languages',\n",
              " 'localized title',\n",
              " 'long imdb canonical title',\n",
              " 'long imdb title',\n",
              " 'number of seasons',\n",
              " 'original title',\n",
              " 'other companies',\n",
              " 'plot',\n",
              " 'plot outline',\n",
              " 'production companies',\n",
              " 'rating',\n",
              " 'runtimes',\n",
              " 'seasons',\n",
              " 'series years',\n",
              " 'smart canonical title',\n",
              " 'smart long imdb canonical title',\n",
              " 'sound mix',\n",
              " 'special effects',\n",
              " 'title',\n",
              " 'videos',\n",
              " 'votes',\n",
              " 'writer',\n",
              " 'year']"
            ]
          },
          "metadata": {},
          "execution_count": 5
        }
      ]
    },
    {
      "cell_type": "code",
      "source": [
        "# потренироваться\n",
        "for actor in movie['cast'][:5]:\n",
        "  print(f\"{actor ['name']} is an actor in {movie ['original title']}\")"
      ],
      "metadata": {
        "colab": {
          "base_uri": "https://localhost:8080/"
        },
        "id": "Yr8B6vwE4UkO",
        "outputId": "f17920f9-2c62-485c-c24d-99f997474ec7"
      },
      "execution_count": 37,
      "outputs": [
        {
          "output_type": "stream",
          "name": "stdout",
          "text": [
            "Donald Faison is an actor in Scrubs\n",
            "John C. McGinley is an actor in Scrubs\n",
            "Ken Jenkins is an actor in Scrubs\n",
            "Zach Braff is an actor in Scrubs\n",
            "Sarah Chalke is an actor in Scrubs\n"
          ]
        }
      ]
    },
    {
      "cell_type": "code",
      "source": [
        "cards = []\n",
        "\n",
        "actors = []\n",
        "for actor in movie['cast'][:5]:\n",
        "  actors.append(actor['name'])\n",
        "actors"
      ],
      "metadata": {
        "colab": {
          "base_uri": "https://localhost:8080/"
        },
        "id": "bQ5CpykT49k5",
        "outputId": "8be46bea-2eb4-4388-a11f-5c7e4572276f"
      },
      "execution_count": 38,
      "outputs": [
        {
          "output_type": "execute_result",
          "data": {
            "text/plain": [
              "['Donald Faison',\n",
              " 'John C. McGinley',\n",
              " 'Ken Jenkins',\n",
              " 'Zach Braff',\n",
              " 'Sarah Chalke']"
            ]
          },
          "metadata": {},
          "execution_count": 38
        }
      ]
    },
    {
      "cell_type": "code",
      "source": [
        "actor_name = ia.search_person(actor['name'])\n",
        "actorID = ia.search_person(actor_name[0].personID)"
      ],
      "metadata": {
        "id": "E73UMG_0F0g7"
      },
      "execution_count": 47,
      "outputs": []
    },
    {
      "cell_type": "code",
      "source": [
        "vsevsevse = dict()\n",
        "titles = []\n",
        "genres = []\n",
        "years = []\n",
        "languages = []\n",
        "ratings = []\n",
        "\n",
        "###filmography берем из actor.keys()\n",
        "#for title in actorID['filmography']['actor']:\n",
        "#  titles.append(movie['title'])\n",
        "#for title in actorID['filmography']['actress']:\n",
        "#  titles.append(movie['title'])\n",
        "# не работает\n",
        "\n",
        "#filmography = actorID['filmography']\n",
        "#if 'actor' in filmography:\n",
        "#  for movie in filmography['actor'][:5]:\n",
        "#    titles.append(movie['title'])\n",
        "#else:\n",
        "#  for movie in filmography['actress'][:5]:\n",
        "#    titles.append(movie['title'])\n",
        "### и это не работает. Одна и та же ошибка - что ни делай: \"TypeError: list indices must be integers or slices, not str\""
      ],
      "metadata": {
        "id": "lQJunOEK4Y0a"
      },
      "execution_count": 48,
      "outputs": []
    },
    {
      "cell_type": "code",
      "source": [
        "films = []\n",
        "\n",
        "try:\n",
        "  for title in actorID['filmography']['actress']:\n",
        "    films.append(title['title'])\n",
        "except KeyError:\n",
        "  for title in actorID['filmography']['actor']:\n",
        "    films.append(title['title'])\n",
        "\n",
        "films[:10]"
      ],
      "metadata": {
        "colab": {
          "base_uri": "https://localhost:8080/",
          "height": 276
        },
        "id": "j2cavqY7AyBh",
        "outputId": "06e5f8d8-7992-441b-b5f3-08db1c93dbaf"
      },
      "execution_count": 46,
      "outputs": [
        {
          "output_type": "error",
          "ename": "TypeError",
          "evalue": "ignored",
          "traceback": [
            "\u001b[0;31m---------------------------------------------------------------------------\u001b[0m",
            "\u001b[0;31mTypeError\u001b[0m                                 Traceback (most recent call last)",
            "\u001b[0;32m<ipython-input-46-3ab2b10edc93>\u001b[0m in \u001b[0;36m<cell line: 3>\u001b[0;34m()\u001b[0m\n\u001b[1;32m      2\u001b[0m \u001b[0;34m\u001b[0m\u001b[0m\n\u001b[1;32m      3\u001b[0m \u001b[0;32mtry\u001b[0m\u001b[0;34m:\u001b[0m\u001b[0;34m\u001b[0m\u001b[0;34m\u001b[0m\u001b[0m\n\u001b[0;32m----> 4\u001b[0;31m   \u001b[0;32mfor\u001b[0m \u001b[0mtitle\u001b[0m \u001b[0;32min\u001b[0m \u001b[0mactorID\u001b[0m\u001b[0;34m[\u001b[0m\u001b[0;34m'filmography'\u001b[0m\u001b[0;34m]\u001b[0m\u001b[0;34m[\u001b[0m\u001b[0;34m'actress'\u001b[0m\u001b[0;34m]\u001b[0m\u001b[0;34m:\u001b[0m\u001b[0;34m\u001b[0m\u001b[0;34m\u001b[0m\u001b[0m\n\u001b[0m\u001b[1;32m      5\u001b[0m     \u001b[0mfilms\u001b[0m\u001b[0;34m.\u001b[0m\u001b[0mappend\u001b[0m\u001b[0;34m(\u001b[0m\u001b[0mtitle\u001b[0m\u001b[0;34m[\u001b[0m\u001b[0;34m'title'\u001b[0m\u001b[0;34m]\u001b[0m\u001b[0;34m)\u001b[0m\u001b[0;34m\u001b[0m\u001b[0;34m\u001b[0m\u001b[0m\n\u001b[1;32m      6\u001b[0m \u001b[0;32mexcept\u001b[0m \u001b[0mKeyError\u001b[0m\u001b[0;34m:\u001b[0m\u001b[0;34m\u001b[0m\u001b[0;34m\u001b[0m\u001b[0m\n",
            "\u001b[0;31mTypeError\u001b[0m: list indices must be integers or slices, not str"
          ]
        }
      ]
    },
    {
      "cell_type": "code",
      "source": [
        "for title in films[:5]:\n",
        "  film_list = ia.search_movie(title)\n",
        "  film = ia.get_movie(movie.movieID)\n",
        "  temp = film['genres'][:5]\n",
        "  genres.append(temp)\n",
        "\n",
        "  if 'year' in film.keys():\n",
        "    year = film['year']\n",
        "    years.append(year)\n",
        "\n",
        "  if 'languages' in film.keys():\n",
        "      languages = film['languages']\n",
        "      languages_list.append(languages[0])\n",
        "\n",
        "  if 'rating' in film.keys():\n",
        "      rating = film['rating']\n",
        "      ratings.append(rating)\n",
        "\n",
        "whole_info = dict()\n",
        "whole_info['films'] = films\n",
        "whole_info['genres'] = genres\n",
        "whole_info['languages'] = languages\n",
        "whole_info['years'] = years\n",
        "\n",
        "whole_info"
      ],
      "metadata": {
        "colab": {
          "base_uri": "https://localhost:8080/"
        },
        "id": "mcXN-VWoAyoB",
        "outputId": "ebe2ef5e-76ea-44c3-9d24-6ae23aba556a"
      },
      "execution_count": 49,
      "outputs": [
        {
          "output_type": "execute_result",
          "data": {
            "text/plain": [
              "{'films': [], 'genres': [], 'languages': [], 'years': []}"
            ]
          },
          "metadata": {},
          "execution_count": 49
        }
      ]
    },
    {
      "cell_type": "code",
      "source": [
        "cards.append({actor_info['canonical name']: whole_info})"
      ],
      "metadata": {
        "colab": {
          "base_uri": "https://localhost:8080/",
          "height": 208
        },
        "id": "ATd1AMpJFCBA",
        "outputId": "42dcb386-e220-4732-c340-c26fc73b6d9b"
      },
      "execution_count": 50,
      "outputs": [
        {
          "output_type": "error",
          "ename": "NameError",
          "evalue": "ignored",
          "traceback": [
            "\u001b[0;31m---------------------------------------------------------------------------\u001b[0m",
            "\u001b[0;31mNameError\u001b[0m                                 Traceback (most recent call last)",
            "\u001b[0;32m<ipython-input-50-fe84862b3b6a>\u001b[0m in \u001b[0;36m<cell line: 1>\u001b[0;34m()\u001b[0m\n\u001b[0;32m----> 1\u001b[0;31m \u001b[0mcards\u001b[0m\u001b[0;34m.\u001b[0m\u001b[0mappend\u001b[0m\u001b[0;34m(\u001b[0m\u001b[0;34m{\u001b[0m\u001b[0mactor_info\u001b[0m\u001b[0;34m[\u001b[0m\u001b[0;34m'canonical name'\u001b[0m\u001b[0;34m]\u001b[0m\u001b[0;34m:\u001b[0m \u001b[0mwhole_info\u001b[0m\u001b[0;34m}\u001b[0m\u001b[0;34m)\u001b[0m\u001b[0;34m\u001b[0m\u001b[0;34m\u001b[0m\u001b[0m\n\u001b[0m",
            "\u001b[0;31mNameError\u001b[0m: name 'actor_info' is not defined"
          ]
        }
      ]
    },
    {
      "cell_type": "code",
      "source": [
        "cards"
      ],
      "metadata": {
        "colab": {
          "base_uri": "https://localhost:8080/"
        },
        "id": "cntGQBgZHPnx",
        "outputId": "04c86003-0169-41a0-f929-3f141b64b771"
      },
      "execution_count": 51,
      "outputs": [
        {
          "output_type": "execute_result",
          "data": {
            "text/plain": [
              "[]"
            ]
          },
          "metadata": {},
          "execution_count": 51
        }
      ]
    }
  ]
}