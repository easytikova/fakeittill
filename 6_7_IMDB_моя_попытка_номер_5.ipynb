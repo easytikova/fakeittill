{
  "nbformat": 4,
  "nbformat_minor": 0,
  "metadata": {
    "colab": {
      "provenance": [],
      "authorship_tag": "ABX9TyN32b/8RzgNJzjKzFfhwTBM",
      "include_colab_link": true
    },
    "kernelspec": {
      "name": "python3",
      "display_name": "Python 3"
    },
    "language_info": {
      "name": "python"
    }
  },
  "cells": [
    {
      "cell_type": "markdown",
      "metadata": {
        "id": "view-in-github",
        "colab_type": "text"
      },
      "source": [
        "<a href=\"https://colab.research.google.com/github/easytikova/fakeittill/blob/main/6_7_IMDB_%D0%BC%D0%BE%D1%8F_%D0%BF%D0%BE%D0%BF%D1%8B%D1%82%D0%BA%D0%B0_%D0%BD%D0%BE%D0%BC%D0%B5%D1%80_5.ipynb\" target=\"_parent\"><img src=\"https://colab.research.google.com/assets/colab-badge.svg\" alt=\"Open In Colab\"/></a>"
      ]
    },
    {
      "cell_type": "code",
      "execution_count": 2,
      "metadata": {
        "colab": {
          "base_uri": "https://localhost:8080/"
        },
        "id": "AOaFNMsP3wXg",
        "outputId": "42f3629a-e401-4844-ef58-160fa5d9196d"
      },
      "outputs": [
        {
          "output_type": "stream",
          "name": "stdout",
          "text": [
            "Collecting cinemagoer\n",
            "  Downloading cinemagoer-2023.5.1-py3-none-any.whl (297 kB)\n",
            "\u001b[?25l     \u001b[90m━━━━━━━━━━━━━━━━━━━━━━━━━━━━━━━━━━━━━━━━\u001b[0m \u001b[32m0.0/297.2 kB\u001b[0m \u001b[31m?\u001b[0m eta \u001b[36m-:--:--\u001b[0m\r\u001b[2K     \u001b[91m━━━━━━━━━━━\u001b[0m\u001b[90m╺\u001b[0m\u001b[90m━━━━━━━━━━━━━━━━━━━━━━━━━━━━\u001b[0m \u001b[32m81.9/297.2 kB\u001b[0m \u001b[31m2.4 MB/s\u001b[0m eta \u001b[36m0:00:01\u001b[0m\r\u001b[2K     \u001b[90m━━━━━━━━━━━━━━━━━━━━━━━━━━━━━━━━━━━━━━━━\u001b[0m \u001b[32m297.2/297.2 kB\u001b[0m \u001b[31m5.0 MB/s\u001b[0m eta \u001b[36m0:00:00\u001b[0m\n",
            "\u001b[?25hRequirement already satisfied: SQLAlchemy in /usr/local/lib/python3.10/dist-packages (from cinemagoer) (2.0.23)\n",
            "Requirement already satisfied: lxml in /usr/local/lib/python3.10/dist-packages (from cinemagoer) (4.9.3)\n",
            "Requirement already satisfied: typing-extensions>=4.2.0 in /usr/local/lib/python3.10/dist-packages (from SQLAlchemy->cinemagoer) (4.5.0)\n",
            "Requirement already satisfied: greenlet!=0.4.17 in /usr/local/lib/python3.10/dist-packages (from SQLAlchemy->cinemagoer) (3.0.1)\n",
            "Installing collected packages: cinemagoer\n",
            "Successfully installed cinemagoer-2023.5.1\n"
          ]
        }
      ],
      "source": [
        "!pip install cinemagoer\n",
        "from imdb import Cinemagoer"
      ]
    },
    {
      "cell_type": "code",
      "source": [
        "ia = Cinemagoer()\n",
        "movie = ia.get_movie('0285403')\n",
        "sorted(movie.keys())"
      ],
      "metadata": {
        "colab": {
          "base_uri": "https://localhost:8080/"
        },
        "id": "ci0Xww4447Bw",
        "outputId": "c33f1869-bed3-4cf5-c5cf-37b4a409492e"
      },
      "execution_count": 3,
      "outputs": [
        {
          "output_type": "execute_result",
          "data": {
            "text/plain": [
              "['akas',\n",
              " 'aspect ratio',\n",
              " 'canonical title',\n",
              " 'cast',\n",
              " 'certificates',\n",
              " 'color info',\n",
              " 'countries',\n",
              " 'country codes',\n",
              " 'cover url',\n",
              " 'distributors',\n",
              " 'full-size cover url',\n",
              " 'genres',\n",
              " 'imdbID',\n",
              " 'kind',\n",
              " 'language codes',\n",
              " 'languages',\n",
              " 'localized title',\n",
              " 'long imdb canonical title',\n",
              " 'long imdb title',\n",
              " 'number of seasons',\n",
              " 'original title',\n",
              " 'other companies',\n",
              " 'plot',\n",
              " 'plot outline',\n",
              " 'production companies',\n",
              " 'rating',\n",
              " 'runtimes',\n",
              " 'seasons',\n",
              " 'series years',\n",
              " 'smart canonical title',\n",
              " 'smart long imdb canonical title',\n",
              " 'sound mix',\n",
              " 'special effects',\n",
              " 'title',\n",
              " 'videos',\n",
              " 'votes',\n",
              " 'writer',\n",
              " 'year']"
            ]
          },
          "metadata": {},
          "execution_count": 3
        }
      ]
    },
    {
      "cell_type": "code",
      "source": [
        "# потренироваться\n",
        "for actor in movie['cast'][:5]:\n",
        "  print(f\"{actor ['name']} is an actor in {movie ['original title']}\")"
      ],
      "metadata": {
        "colab": {
          "base_uri": "https://localhost:8080/"
        },
        "id": "Yr8B6vwE4UkO",
        "outputId": "a8542a27-55d6-4596-f93a-1b9d30e61444"
      },
      "execution_count": 4,
      "outputs": [
        {
          "output_type": "stream",
          "name": "stdout",
          "text": [
            "Donald Faison is an actor in Scrubs\n",
            "John C. McGinley is an actor in Scrubs\n",
            "Ken Jenkins is an actor in Scrubs\n",
            "Zach Braff is an actor in Scrubs\n",
            "Sarah Chalke is an actor in Scrubs\n"
          ]
        }
      ]
    },
    {
      "cell_type": "code",
      "source": [
        "cards = []\n",
        "\n",
        "actors = []\n",
        "for actor in movie['cast'][:5]:\n",
        "  actors.append(actor['name'])\n",
        "actors"
      ],
      "metadata": {
        "colab": {
          "base_uri": "https://localhost:8080/"
        },
        "id": "bQ5CpykT49k5",
        "outputId": "2d4f0471-a64c-424e-9bf9-d1b59be69a2b"
      },
      "execution_count": 5,
      "outputs": [
        {
          "output_type": "execute_result",
          "data": {
            "text/plain": [
              "['Donald Faison',\n",
              " 'John C. McGinley',\n",
              " 'Ken Jenkins',\n",
              " 'Zach Braff',\n",
              " 'Sarah Chalke']"
            ]
          },
          "metadata": {},
          "execution_count": 5
        }
      ]
    },
    {
      "cell_type": "code",
      "source": [
        "actor_name = ia.search_person(actor['name'])\n",
        "actorID = ia.get_person(actor_name[0].personID)"
      ],
      "metadata": {
        "id": "E73UMG_0F0g7"
      },
      "execution_count": 11,
      "outputs": []
    },
    {
      "cell_type": "code",
      "source": [
        "vsevsevse = dict()\n",
        "titles = []\n",
        "genres = []\n",
        "years = []\n",
        "languages = []\n",
        "ratings = []\n",
        "\n",
        "###filmography берем из actor.keys()\n",
        "#for title in actorID['filmography']['actor']:\n",
        "#  titles.append(movie['title'])\n",
        "#for title in actorID['filmography']['actress']:\n",
        "#  titles.append(movie['title'])\n",
        "# не работает\n",
        "\n",
        "#filmography = actorID['filmography']\n",
        "#if 'actor' in filmography:\n",
        "#  for movie in filmography['actor'][:5]:\n",
        "#    titles.append(movie['title'])\n",
        "#else:\n",
        "#  for movie in filmography['actress'][:5]:\n",
        "#    titles.append(movie['title'])\n",
        "### и это не работает. Одна и та же ошибка - что ни делай: \"TypeError: list indices must be integers or slices, not str\""
      ],
      "metadata": {
        "id": "lQJunOEK4Y0a"
      },
      "execution_count": 12,
      "outputs": []
    },
    {
      "cell_type": "code",
      "source": [
        "films = []\n",
        "\n",
        "try:\n",
        "  for title in actorID['filmography']['actress']:\n",
        "    films.append(title['title'])\n",
        "except KeyError:\n",
        "  for title in actorID['filmography']['actor']:\n",
        "    films.append(title['title'])\n",
        "\n",
        "films[:5]"
      ],
      "metadata": {
        "colab": {
          "base_uri": "https://localhost:8080/"
        },
        "id": "j2cavqY7AyBh",
        "outputId": "523225ef-3ae9-4391-f3be-70686163503a"
      },
      "execution_count": 23,
      "outputs": [
        {
          "output_type": "execute_result",
          "data": {
            "text/plain": [
              "['Rick and Morty',\n",
              " \"Hailey's on It!\",\n",
              " 'Firefly Lane',\n",
              " \"Rick and Morty: Summer's Sleepover\",\n",
              " 'Dogs in Space']"
            ]
          },
          "metadata": {},
          "execution_count": 23
        }
      ]
    },
    {
      "cell_type": "code",
      "source": [
        "for title in films[:5]:\n",
        "  film_list = ia.search_movie(title)\n",
        "  film = ia.get_movie(film_list[0].movieID)\n",
        "\n",
        "  temp = film['genres'][:5]\n",
        "  genres.append(temp)\n",
        "\n",
        "  if 'year' in film.keys():\n",
        "    year = film['year']\n",
        "    years.append(year)\n",
        "\n",
        "  if 'languages' in film.keys():\n",
        "      languages = film['languages']\n",
        "      languages.append(languages[0])\n",
        "\n",
        "  if 'rating' in film.keys():\n",
        "      rating = film['rating']\n",
        "      ratings.append(rating)\n",
        "\n",
        "whole_info = dict()\n",
        "whole_info['films'] = films\n",
        "whole_info['genres'] = set(genre for row in genres for genre in row)\n",
        "whole_info['languages'] = set(languages)\n",
        "whole_info['years'] = set(years)\n",
        "\n",
        "whole_info"
      ],
      "metadata": {
        "colab": {
          "base_uri": "https://localhost:8080/"
        },
        "id": "mcXN-VWoAyoB",
        "outputId": "07c76075-fdbf-4bef-beb0-ab6a3755b88a"
      },
      "execution_count": 28,
      "outputs": [
        {
          "output_type": "execute_result",
          "data": {
            "text/plain": [
              "{'films': ['Rick and Morty',\n",
              "  \"Hailey's on It!\",\n",
              "  'Firefly Lane',\n",
              "  \"Rick and Morty: Summer's Sleepover\",\n",
              "  'Dogs in Space',\n",
              "  'Paradise PD',\n",
              "  'Eat Wheaties!',\n",
              "  'Psych 2: Lassie Come Home',\n",
              "  'The Wrong Missy',\n",
              "  \"Milo Murphy's Law\",\n",
              "  'Speechless',\n",
              "  'American Dad!',\n",
              "  'Friends from College',\n",
              "  'The Conners',\n",
              "  'Nobodies',\n",
              "  'Roseanne',\n",
              "  \"Olaf's Frozen Adventure\",\n",
              "  'Rick and Morty: Virtual Rick-ality',\n",
              "  'Inside Amy Schumer',\n",
              "  'After the Reality',\n",
              "  \"Mother's Day\",\n",
              "  'Angie Tribeca',\n",
              "  \"48 Hours 'til Monday\",\n",
              "  'Tit for Tat',\n",
              "  'Undateable',\n",
              "  'Backstrom',\n",
              "  'Bummed',\n",
              "  'Really',\n",
              "  'How I Met Your Mother',\n",
              "  'How to Live with Your Parents',\n",
              "  \"Grey's Anatomy\",\n",
              "  'Robot Chicken',\n",
              "  'Cougar Town',\n",
              "  'Special Agent Oso',\n",
              "  'Prep & Landing: Naughty vs. Nice',\n",
              "  \"Prep & Landing: Tiny's Big Adventure\",\n",
              "  'Mad Love',\n",
              "  'Freshmen',\n",
              "  'Team Spitz',\n",
              "  'Prep & Landing Stocking Stuffer: Operation: Secret Santa',\n",
              "  'Scrubs',\n",
              "  'Prep & Landing',\n",
              "  'The Fresh Beat Band',\n",
              "  'Maneater',\n",
              "  'Scrubs: Interns',\n",
              "  'Prop 8: The Musical',\n",
              "  \"Mama's Boy\",\n",
              "  'Chaos Theory',\n",
              "  'Saturday Night Live',\n",
              "  'Why I Wore Lipstick to My Mastectomy',\n",
              "  'Awesometown',\n",
              "  'Cake',\n",
              "  'Alchemy',\n",
              "  \"The 'Bu\",\n",
              "  'Clone High',\n",
              "  'XCU: Extreme Close Up',\n",
              "  'Kill Me Later',\n",
              "  'Spin Cycle',\n",
              "  'Cinderella; Single Again',\n",
              "  'Nothing Too Good for a Cowboy',\n",
              "  'All Shook Up',\n",
              "  'First Wave',\n",
              "  'Y2K',\n",
              "  \"I've Been Waiting for You\",\n",
              "  'Nothing Too Good for a Cowboy',\n",
              "  \"Dead Man's Gun\",\n",
              "  \"Our Mother's Murder\",\n",
              "  'Dying to Belong',\n",
              "  \"A Child's Wish\",\n",
              "  'Stand Against Fear',\n",
              "  'Dead Ahead',\n",
              "  'Robin of Locksley',\n",
              "  'Ernest Goes to School',\n",
              "  'Beyond Obsession',\n",
              "  'Woman on the Ledge',\n",
              "  'Relentless: Mind of a Killer',\n",
              "  'City Boy',\n",
              "  'Neon Rider',\n",
              "  'The Odyssey'],\n",
              " 'genres': {'Action',\n",
              "  'Adventure',\n",
              "  'Animation',\n",
              "  'Comedy',\n",
              "  'Crime',\n",
              "  'Drama',\n",
              "  'Family',\n",
              "  'Horror',\n",
              "  'Mystery',\n",
              "  'Romance',\n",
              "  'Sci-Fi',\n",
              "  'Short'},\n",
              " 'languages': {'English'},\n",
              " 'years': {1988, 2001, 2005, 2013, 2016, 2017, 2018, 2020, 2021, 2022, 2023}}"
            ]
          },
          "metadata": {},
          "execution_count": 28
        }
      ]
    },
    {
      "cell_type": "code",
      "source": [
        "cards.append({actorID['canonical name']: whole_info})"
      ],
      "metadata": {
        "id": "ATd1AMpJFCBA"
      },
      "execution_count": 17,
      "outputs": []
    },
    {
      "cell_type": "code",
      "source": [
        "cards"
      ],
      "metadata": {
        "colab": {
          "base_uri": "https://localhost:8080/"
        },
        "id": "cntGQBgZHPnx",
        "outputId": "be3c90db-e089-4ade-88d7-409fdc604bc0"
      },
      "execution_count": 18,
      "outputs": [
        {
          "output_type": "execute_result",
          "data": {
            "text/plain": [
              "[{'Chalke, Sarah': {'films': ['Rick and Morty',\n",
              "    \"Hailey's on It!\",\n",
              "    'Firefly Lane',\n",
              "    \"Rick and Morty: Summer's Sleepover\",\n",
              "    'Dogs in Space',\n",
              "    'Paradise PD',\n",
              "    'Eat Wheaties!',\n",
              "    'Psych 2: Lassie Come Home',\n",
              "    'The Wrong Missy',\n",
              "    \"Milo Murphy's Law\",\n",
              "    'Speechless',\n",
              "    'American Dad!',\n",
              "    'Friends from College',\n",
              "    'The Conners',\n",
              "    'Nobodies',\n",
              "    'Roseanne',\n",
              "    \"Olaf's Frozen Adventure\",\n",
              "    'Rick and Morty: Virtual Rick-ality',\n",
              "    'Inside Amy Schumer',\n",
              "    'After the Reality',\n",
              "    \"Mother's Day\",\n",
              "    'Angie Tribeca',\n",
              "    \"48 Hours 'til Monday\",\n",
              "    'Tit for Tat',\n",
              "    'Undateable',\n",
              "    'Backstrom',\n",
              "    'Bummed',\n",
              "    'Really',\n",
              "    'How I Met Your Mother',\n",
              "    'How to Live with Your Parents',\n",
              "    \"Grey's Anatomy\",\n",
              "    'Robot Chicken',\n",
              "    'Cougar Town',\n",
              "    'Special Agent Oso',\n",
              "    'Prep & Landing: Naughty vs. Nice',\n",
              "    \"Prep & Landing: Tiny's Big Adventure\",\n",
              "    'Mad Love',\n",
              "    'Freshmen',\n",
              "    'Team Spitz',\n",
              "    'Prep & Landing Stocking Stuffer: Operation: Secret Santa',\n",
              "    'Scrubs',\n",
              "    'Prep & Landing',\n",
              "    'The Fresh Beat Band',\n",
              "    'Maneater',\n",
              "    'Scrubs: Interns',\n",
              "    'Prop 8: The Musical',\n",
              "    \"Mama's Boy\",\n",
              "    'Chaos Theory',\n",
              "    'Saturday Night Live',\n",
              "    'Why I Wore Lipstick to My Mastectomy',\n",
              "    'Awesometown',\n",
              "    'Cake',\n",
              "    'Alchemy',\n",
              "    \"The 'Bu\",\n",
              "    'Clone High',\n",
              "    'XCU: Extreme Close Up',\n",
              "    'Kill Me Later',\n",
              "    'Spin Cycle',\n",
              "    'Cinderella; Single Again',\n",
              "    'Nothing Too Good for a Cowboy',\n",
              "    'All Shook Up',\n",
              "    'First Wave',\n",
              "    'Y2K',\n",
              "    \"I've Been Waiting for You\",\n",
              "    'Nothing Too Good for a Cowboy',\n",
              "    \"Dead Man's Gun\",\n",
              "    \"Our Mother's Murder\",\n",
              "    'Dying to Belong',\n",
              "    \"A Child's Wish\",\n",
              "    'Stand Against Fear',\n",
              "    'Dead Ahead',\n",
              "    'Robin of Locksley',\n",
              "    'Ernest Goes to School',\n",
              "    'Beyond Obsession',\n",
              "    'Woman on the Ledge',\n",
              "    'Relentless: Mind of a Killer',\n",
              "    'City Boy',\n",
              "    'Neon Rider',\n",
              "    'The Odyssey'],\n",
              "   'genres': [['Comedy', 'Drama'],\n",
              "    ['Comedy', 'Drama'],\n",
              "    ['Comedy', 'Drama'],\n",
              "    ['Comedy', 'Drama'],\n",
              "    ['Comedy', 'Drama'],\n",
              "    ['Comedy', 'Drama']],\n",
              "   'languages': ['English',\n",
              "    'German',\n",
              "    'Spanish',\n",
              "    'American Sign Language',\n",
              "    'English'],\n",
              "   'years': [2001, 2001, 2001, 2001, 2001, 2001]}}]"
            ]
          },
          "metadata": {},
          "execution_count": 18
        }
      ]
    },
    {
      "cell_type": "code",
      "source": [
        "from pprint import pprint\n",
        "\n",
        "pprint(cards)"
      ],
      "metadata": {
        "colab": {
          "base_uri": "https://localhost:8080/"
        },
        "id": "jw9iKuN3_k4a",
        "outputId": "29aa45c8-dbb3-4509-8e92-2db091bd61a4"
      },
      "execution_count": 19,
      "outputs": [
        {
          "output_type": "stream",
          "name": "stdout",
          "text": [
            "[{'Chalke, Sarah': {'films': ['Rick and Morty',\n",
            "                              \"Hailey's on It!\",\n",
            "                              'Firefly Lane',\n",
            "                              \"Rick and Morty: Summer's Sleepover\",\n",
            "                              'Dogs in Space',\n",
            "                              'Paradise PD',\n",
            "                              'Eat Wheaties!',\n",
            "                              'Psych 2: Lassie Come Home',\n",
            "                              'The Wrong Missy',\n",
            "                              \"Milo Murphy's Law\",\n",
            "                              'Speechless',\n",
            "                              'American Dad!',\n",
            "                              'Friends from College',\n",
            "                              'The Conners',\n",
            "                              'Nobodies',\n",
            "                              'Roseanne',\n",
            "                              \"Olaf's Frozen Adventure\",\n",
            "                              'Rick and Morty: Virtual Rick-ality',\n",
            "                              'Inside Amy Schumer',\n",
            "                              'After the Reality',\n",
            "                              \"Mother's Day\",\n",
            "                              'Angie Tribeca',\n",
            "                              \"48 Hours 'til Monday\",\n",
            "                              'Tit for Tat',\n",
            "                              'Undateable',\n",
            "                              'Backstrom',\n",
            "                              'Bummed',\n",
            "                              'Really',\n",
            "                              'How I Met Your Mother',\n",
            "                              'How to Live with Your Parents',\n",
            "                              \"Grey's Anatomy\",\n",
            "                              'Robot Chicken',\n",
            "                              'Cougar Town',\n",
            "                              'Special Agent Oso',\n",
            "                              'Prep & Landing: Naughty vs. Nice',\n",
            "                              \"Prep & Landing: Tiny's Big Adventure\",\n",
            "                              'Mad Love',\n",
            "                              'Freshmen',\n",
            "                              'Team Spitz',\n",
            "                              'Prep & Landing Stocking Stuffer: Operation: '\n",
            "                              'Secret Santa',\n",
            "                              'Scrubs',\n",
            "                              'Prep & Landing',\n",
            "                              'The Fresh Beat Band',\n",
            "                              'Maneater',\n",
            "                              'Scrubs: Interns',\n",
            "                              'Prop 8: The Musical',\n",
            "                              \"Mama's Boy\",\n",
            "                              'Chaos Theory',\n",
            "                              'Saturday Night Live',\n",
            "                              'Why I Wore Lipstick to My Mastectomy',\n",
            "                              'Awesometown',\n",
            "                              'Cake',\n",
            "                              'Alchemy',\n",
            "                              \"The 'Bu\",\n",
            "                              'Clone High',\n",
            "                              'XCU: Extreme Close Up',\n",
            "                              'Kill Me Later',\n",
            "                              'Spin Cycle',\n",
            "                              'Cinderella; Single Again',\n",
            "                              'Nothing Too Good for a Cowboy',\n",
            "                              'All Shook Up',\n",
            "                              'First Wave',\n",
            "                              'Y2K',\n",
            "                              \"I've Been Waiting for You\",\n",
            "                              'Nothing Too Good for a Cowboy',\n",
            "                              \"Dead Man's Gun\",\n",
            "                              \"Our Mother's Murder\",\n",
            "                              'Dying to Belong',\n",
            "                              \"A Child's Wish\",\n",
            "                              'Stand Against Fear',\n",
            "                              'Dead Ahead',\n",
            "                              'Robin of Locksley',\n",
            "                              'Ernest Goes to School',\n",
            "                              'Beyond Obsession',\n",
            "                              'Woman on the Ledge',\n",
            "                              'Relentless: Mind of a Killer',\n",
            "                              'City Boy',\n",
            "                              'Neon Rider',\n",
            "                              'The Odyssey'],\n",
            "                    'genres': [['Comedy', 'Drama'],\n",
            "                               ['Comedy', 'Drama'],\n",
            "                               ['Comedy', 'Drama'],\n",
            "                               ['Comedy', 'Drama'],\n",
            "                               ['Comedy', 'Drama'],\n",
            "                               ['Comedy', 'Drama']],\n",
            "                    'languages': ['English',\n",
            "                                  'German',\n",
            "                                  'Spanish',\n",
            "                                  'American Sign Language',\n",
            "                                  'English'],\n",
            "                    'years': [2001, 2001, 2001, 2001, 2001, 2001]}}]\n"
          ]
        }
      ]
    }
  ]
}