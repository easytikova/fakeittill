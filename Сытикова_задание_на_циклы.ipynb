{
  "nbformat": 4,
  "nbformat_minor": 0,
  "metadata": {
    "colab": {
      "provenance": [],
      "include_colab_link": true
    },
    "kernelspec": {
      "name": "python3",
      "display_name": "Python 3"
    },
    "language_info": {
      "name": "python"
    }
  },
  "cells": [
    {
      "cell_type": "markdown",
      "metadata": {
        "id": "view-in-github",
        "colab_type": "text"
      },
      "source": [
        "<a href=\"https://colab.research.google.com/github/easytikova/fakeittill/blob/main/%D0%A1%D1%8B%D1%82%D0%B8%D0%BA%D0%BE%D0%B2%D0%B0_%D0%B7%D0%B0%D0%B4%D0%B0%D0%BD%D0%B8%D0%B5_%D0%BD%D0%B0_%D1%86%D0%B8%D0%BA%D0%BB%D1%8B.ipynb\" target=\"_parent\"><img src=\"https://colab.research.google.com/assets/colab-badge.svg\" alt=\"Open In Colab\"/></a>"
      ]
    },
    {
      "cell_type": "markdown",
      "source": [
        "```Авторский курс Виктории Фирсановой по Python для Data Science и NLP. Разработан специально для петербургского кампуса НИУ ВШЭ```"
      ],
      "metadata": {
        "id": "SNwhjSmrI2L7"
      }
    },
    {
      "cell_type": "markdown",
      "source": [
        "Загружаем датасет киноотзывов с NLTK"
      ],
      "metadata": {
        "id": "ve58EM53HdHC"
      }
    },
    {
      "cell_type": "code",
      "execution_count": 1,
      "metadata": {
        "colab": {
          "base_uri": "https://localhost:8080/"
        },
        "id": "m8TLWyIoG_kS",
        "outputId": "678b9721-5b9b-4828-9e4a-c37a9a73b957"
      },
      "outputs": [
        {
          "output_type": "stream",
          "name": "stderr",
          "text": [
            "[nltk_data] Downloading package movie_reviews to /root/nltk_data...\n",
            "[nltk_data]   Unzipping corpora/movie_reviews.zip.\n"
          ]
        },
        {
          "output_type": "execute_result",
          "data": {
            "text/plain": [
              "True"
            ]
          },
          "metadata": {},
          "execution_count": 1
        }
      ],
      "source": [
        "import nltk\n",
        "from nltk.corpus import movie_reviews\n",
        "\n",
        "nltk.download(\"movie_reviews\")"
      ]
    },
    {
      "cell_type": "code",
      "source": [
        "# Извлекаем положительные и негативные отзывы\n",
        "\n",
        "positive_reviews = movie_reviews.fileids(\"pos\")\n",
        "negative_reviews = movie_reviews.fileids(\"neg\")"
      ],
      "metadata": {
        "id": "xnNp8AGUHbTh"
      },
      "execution_count": 3,
      "outputs": []
    },
    {
      "cell_type": "markdown",
      "source": [
        "**Задание 1**\n",
        "\n",
        "Посчитать среднюю длину положительных отзывов в словах"
      ],
      "metadata": {
        "id": "B1RLdPhnIcTy"
      }
    },
    {
      "cell_type": "code",
      "source": [
        "# считаем длину отзывов\n",
        "# создаем переменную, куда сохраним длину отзывов\n",
        "# здесь будет храниться _общее количество отзывов_\n",
        "total_length = len(positive_reviews + negative_reviews)### ваш код здесь\n",
        "print(total_length)"
      ],
      "metadata": {
        "id": "FDeVLc-wH7bC",
        "colab": {
          "base_uri": "https://localhost:8080/"
        },
        "outputId": "30571141-38c7-44f0-acc9-ece4bd4e66ce"
      },
      "execution_count": 6,
      "outputs": [
        {
          "output_type": "stream",
          "name": "stdout",
          "text": [
            "2000\n"
          ]
        }
      ]
    },
    {
      "cell_type": "code",
      "source": [
        "# цикл для каждого отзыва в списке _положительных отзывов_\n",
        "for id in positive_reviews:\n",
        "    # извлекаем слова в каждом отзыве\n",
        "    words = movie_reviews.words(fileids=[id])\n",
        "    # добавляем в переменную total_length количество извлеченных слов (длину списка слов)\n",
        "    total_length += len(words)\n",
        "\n",
        "# делим _общее количество отзывов_ на количество положительных отзывов (длину списка положительных отзывов)\n",
        "average_length_positive = total_length / len(positive_reviews)\n",
        "print(f\"Средняя длина положительных отзывов: {average_length_positive:.2f} слов\") # что значит .2f?"
      ],
      "metadata": {
        "colab": {
          "base_uri": "https://localhost:8080/"
        },
        "id": "rvbU0qAqKOCI",
        "outputId": "c7891302-d5d0-4f2d-9fc5-58c065373c97"
      },
      "execution_count": 13,
      "outputs": [
        {
          "output_type": "stream",
          "name": "stdout",
          "text": [
            "Средняя длина положительных отзывов: 4997.38 слов\n"
          ]
        }
      ]
    },
    {
      "cell_type": "markdown",
      "source": [
        "**Задание 2**\n",
        "\n",
        "Посчитать среднюю длину негативных отзывов в словах"
      ],
      "metadata": {
        "id": "XYqs6sMFIgA7"
      }
    },
    {
      "cell_type": "code",
      "source": [
        "total_length = total_length = len(positive_reviews + negative_reviews)### ваш код здесь\n",
        "print(total_length)\n",
        "for id in negative_reviews:\n",
        "    words = movie_reviews.words(fileids=[id])\n",
        "    total_length += len(words)\n",
        "\n",
        "average_length_negative = total_length / len(negative_reviews)\n",
        "print(f\"Средняя длина негативных отзывов: {average_length_negative:.2f} слов\")"
      ],
      "metadata": {
        "id": "Yb8LC0zrH5H0",
        "colab": {
          "base_uri": "https://localhost:8080/"
        },
        "outputId": "6a31712c-74a4-46f4-ad0c-3522da555ddc"
      },
      "execution_count": 15,
      "outputs": [
        {
          "output_type": "stream",
          "name": "stdout",
          "text": [
            "2000\n",
            "Средняя длина негативных отзывов: 753.26 слов\n"
          ]
        }
      ]
    }
  ]
}